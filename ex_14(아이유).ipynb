{
 "cells": [
  {
   "cell_type": "code",
   "execution_count": null,
   "id": "ba318196",
   "metadata": {},
   "outputs": [],
   "source": [
    "Cloud shell에서 아래 명령어를 입력해 주세요.\n",
    "\n",
    "# $ mkdir -p ~/aiffel/recommendata_iu/data/lastfm-dataset-360K\n",
    "# $ ln -s ~/data/lastfm-dataset-360K/* ~/aiffel/recommendata_iu/data/lastfm-dataset-360K\n",
    "# $ more ~/aiffel/recommendata_iu/data/lastfm-dataset-360K/usersha1-artmbid-artname-plays.tsv"
   ]
  },
  {
   "cell_type": "code",
   "execution_count": 2,
   "id": "e4cf0bc2",
   "metadata": {},
   "outputs": [
    {
     "data": {
      "text/html": [
       "<div>\n",
       "<style scoped>\n",
       "    .dataframe tbody tr th:only-of-type {\n",
       "        vertical-align: middle;\n",
       "    }\n",
       "\n",
       "    .dataframe tbody tr th {\n",
       "        vertical-align: top;\n",
       "    }\n",
       "\n",
       "    .dataframe thead th {\n",
       "        text-align: right;\n",
       "    }\n",
       "</style>\n",
       "<table border=\"1\" class=\"dataframe\">\n",
       "  <thead>\n",
       "    <tr style=\"text-align: right;\">\n",
       "      <th></th>\n",
       "      <th>user_id</th>\n",
       "      <th>artist_MBID</th>\n",
       "      <th>artist</th>\n",
       "      <th>play</th>\n",
       "    </tr>\n",
       "  </thead>\n",
       "  <tbody>\n",
       "    <tr>\n",
       "      <th>0</th>\n",
       "      <td>00000c289a1829a808ac09c00daf10bc3c4e223b</td>\n",
       "      <td>3bd73256-3905-4f3a-97e2-8b341527f805</td>\n",
       "      <td>betty blowtorch</td>\n",
       "      <td>2137</td>\n",
       "    </tr>\n",
       "    <tr>\n",
       "      <th>1</th>\n",
       "      <td>00000c289a1829a808ac09c00daf10bc3c4e223b</td>\n",
       "      <td>f2fb0ff0-5679-42ec-a55c-15109ce6e320</td>\n",
       "      <td>die Ärzte</td>\n",
       "      <td>1099</td>\n",
       "    </tr>\n",
       "    <tr>\n",
       "      <th>2</th>\n",
       "      <td>00000c289a1829a808ac09c00daf10bc3c4e223b</td>\n",
       "      <td>b3ae82c2-e60b-4551-a76d-6620f1b456aa</td>\n",
       "      <td>melissa etheridge</td>\n",
       "      <td>897</td>\n",
       "    </tr>\n",
       "    <tr>\n",
       "      <th>3</th>\n",
       "      <td>00000c289a1829a808ac09c00daf10bc3c4e223b</td>\n",
       "      <td>3d6bbeb7-f90e-4d10-b440-e153c0d10b53</td>\n",
       "      <td>elvenking</td>\n",
       "      <td>717</td>\n",
       "    </tr>\n",
       "    <tr>\n",
       "      <th>4</th>\n",
       "      <td>00000c289a1829a808ac09c00daf10bc3c4e223b</td>\n",
       "      <td>bbd2ffd7-17f4-4506-8572-c1ea58c3f9a8</td>\n",
       "      <td>juliette &amp; the licks</td>\n",
       "      <td>706</td>\n",
       "    </tr>\n",
       "    <tr>\n",
       "      <th>5</th>\n",
       "      <td>00000c289a1829a808ac09c00daf10bc3c4e223b</td>\n",
       "      <td>8bfac288-ccc5-448d-9573-c33ea2aa5c30</td>\n",
       "      <td>red hot chili peppers</td>\n",
       "      <td>691</td>\n",
       "    </tr>\n",
       "    <tr>\n",
       "      <th>6</th>\n",
       "      <td>00000c289a1829a808ac09c00daf10bc3c4e223b</td>\n",
       "      <td>6531c8b1-76ea-4141-b270-eb1ac5b41375</td>\n",
       "      <td>magica</td>\n",
       "      <td>545</td>\n",
       "    </tr>\n",
       "    <tr>\n",
       "      <th>7</th>\n",
       "      <td>00000c289a1829a808ac09c00daf10bc3c4e223b</td>\n",
       "      <td>21f3573f-10cf-44b3-aeaa-26cccd8448b5</td>\n",
       "      <td>the black dahlia murder</td>\n",
       "      <td>507</td>\n",
       "    </tr>\n",
       "    <tr>\n",
       "      <th>8</th>\n",
       "      <td>00000c289a1829a808ac09c00daf10bc3c4e223b</td>\n",
       "      <td>c5db90c4-580d-4f33-b364-fbaa5a3a58b5</td>\n",
       "      <td>the murmurs</td>\n",
       "      <td>424</td>\n",
       "    </tr>\n",
       "    <tr>\n",
       "      <th>9</th>\n",
       "      <td>00000c289a1829a808ac09c00daf10bc3c4e223b</td>\n",
       "      <td>0639533a-0402-40ba-b6e0-18b067198b73</td>\n",
       "      <td>lunachicks</td>\n",
       "      <td>403</td>\n",
       "    </tr>\n",
       "  </tbody>\n",
       "</table>\n",
       "</div>"
      ],
      "text/plain": [
       "                                    user_id  \\\n",
       "0  00000c289a1829a808ac09c00daf10bc3c4e223b   \n",
       "1  00000c289a1829a808ac09c00daf10bc3c4e223b   \n",
       "2  00000c289a1829a808ac09c00daf10bc3c4e223b   \n",
       "3  00000c289a1829a808ac09c00daf10bc3c4e223b   \n",
       "4  00000c289a1829a808ac09c00daf10bc3c4e223b   \n",
       "5  00000c289a1829a808ac09c00daf10bc3c4e223b   \n",
       "6  00000c289a1829a808ac09c00daf10bc3c4e223b   \n",
       "7  00000c289a1829a808ac09c00daf10bc3c4e223b   \n",
       "8  00000c289a1829a808ac09c00daf10bc3c4e223b   \n",
       "9  00000c289a1829a808ac09c00daf10bc3c4e223b   \n",
       "\n",
       "                            artist_MBID                   artist  play  \n",
       "0  3bd73256-3905-4f3a-97e2-8b341527f805          betty blowtorch  2137  \n",
       "1  f2fb0ff0-5679-42ec-a55c-15109ce6e320                die Ärzte  1099  \n",
       "2  b3ae82c2-e60b-4551-a76d-6620f1b456aa        melissa etheridge   897  \n",
       "3  3d6bbeb7-f90e-4d10-b440-e153c0d10b53                elvenking   717  \n",
       "4  bbd2ffd7-17f4-4506-8572-c1ea58c3f9a8     juliette & the licks   706  \n",
       "5  8bfac288-ccc5-448d-9573-c33ea2aa5c30    red hot chili peppers   691  \n",
       "6  6531c8b1-76ea-4141-b270-eb1ac5b41375                   magica   545  \n",
       "7  21f3573f-10cf-44b3-aeaa-26cccd8448b5  the black dahlia murder   507  \n",
       "8  c5db90c4-580d-4f33-b364-fbaa5a3a58b5              the murmurs   424  \n",
       "9  0639533a-0402-40ba-b6e0-18b067198b73               lunachicks   403  "
      ]
     },
     "execution_count": 2,
     "metadata": {},
     "output_type": "execute_result"
    }
   ],
   "source": [
    "# 14-3 데이터 탐색하기와 전처리\n",
    "#  Pandas를 활용해 이 데이터를 열기. 위 데이터에는 컬럼명이 포함되어 있지 않으므로, 아래와 같이 col_names에 적절히 컬럼명을 지정\n",
    "import pandas as pd\n",
    "import os\n",
    "\n",
    "fname = os.getenv('HOME') + '/aiffel/recommendata_iu/data/lastfm-dataset-360K/usersha1-artmbid-artname-plays.tsv'\n",
    "col_names = ['user_id', 'artist_MBID', 'artist', 'play']   # 임의로 지정한 컬럼명\n",
    "data = pd.read_csv(fname, sep='\\t', names= col_names)      # sep='\\t'로 주어야 tsv를 열 수 있습니다.  \n",
    "data.head(10)"
   ]
  },
  {
   "cell_type": "code",
   "execution_count": 3,
   "id": "d4dc99b1",
   "metadata": {},
   "outputs": [
    {
     "data": {
      "text/html": [
       "<div>\n",
       "<style scoped>\n",
       "    .dataframe tbody tr th:only-of-type {\n",
       "        vertical-align: middle;\n",
       "    }\n",
       "\n",
       "    .dataframe tbody tr th {\n",
       "        vertical-align: top;\n",
       "    }\n",
       "\n",
       "    .dataframe thead th {\n",
       "        text-align: right;\n",
       "    }\n",
       "</style>\n",
       "<table border=\"1\" class=\"dataframe\">\n",
       "  <thead>\n",
       "    <tr style=\"text-align: right;\">\n",
       "      <th></th>\n",
       "      <th>user_id</th>\n",
       "      <th>artist</th>\n",
       "      <th>play</th>\n",
       "    </tr>\n",
       "  </thead>\n",
       "  <tbody>\n",
       "    <tr>\n",
       "      <th>0</th>\n",
       "      <td>00000c289a1829a808ac09c00daf10bc3c4e223b</td>\n",
       "      <td>betty blowtorch</td>\n",
       "      <td>2137</td>\n",
       "    </tr>\n",
       "    <tr>\n",
       "      <th>1</th>\n",
       "      <td>00000c289a1829a808ac09c00daf10bc3c4e223b</td>\n",
       "      <td>die Ärzte</td>\n",
       "      <td>1099</td>\n",
       "    </tr>\n",
       "    <tr>\n",
       "      <th>2</th>\n",
       "      <td>00000c289a1829a808ac09c00daf10bc3c4e223b</td>\n",
       "      <td>melissa etheridge</td>\n",
       "      <td>897</td>\n",
       "    </tr>\n",
       "    <tr>\n",
       "      <th>3</th>\n",
       "      <td>00000c289a1829a808ac09c00daf10bc3c4e223b</td>\n",
       "      <td>elvenking</td>\n",
       "      <td>717</td>\n",
       "    </tr>\n",
       "    <tr>\n",
       "      <th>4</th>\n",
       "      <td>00000c289a1829a808ac09c00daf10bc3c4e223b</td>\n",
       "      <td>juliette &amp; the licks</td>\n",
       "      <td>706</td>\n",
       "    </tr>\n",
       "    <tr>\n",
       "      <th>5</th>\n",
       "      <td>00000c289a1829a808ac09c00daf10bc3c4e223b</td>\n",
       "      <td>red hot chili peppers</td>\n",
       "      <td>691</td>\n",
       "    </tr>\n",
       "    <tr>\n",
       "      <th>6</th>\n",
       "      <td>00000c289a1829a808ac09c00daf10bc3c4e223b</td>\n",
       "      <td>magica</td>\n",
       "      <td>545</td>\n",
       "    </tr>\n",
       "    <tr>\n",
       "      <th>7</th>\n",
       "      <td>00000c289a1829a808ac09c00daf10bc3c4e223b</td>\n",
       "      <td>the black dahlia murder</td>\n",
       "      <td>507</td>\n",
       "    </tr>\n",
       "    <tr>\n",
       "      <th>8</th>\n",
       "      <td>00000c289a1829a808ac09c00daf10bc3c4e223b</td>\n",
       "      <td>the murmurs</td>\n",
       "      <td>424</td>\n",
       "    </tr>\n",
       "    <tr>\n",
       "      <th>9</th>\n",
       "      <td>00000c289a1829a808ac09c00daf10bc3c4e223b</td>\n",
       "      <td>lunachicks</td>\n",
       "      <td>403</td>\n",
       "    </tr>\n",
       "  </tbody>\n",
       "</table>\n",
       "</div>"
      ],
      "text/plain": [
       "                                    user_id                   artist  play\n",
       "0  00000c289a1829a808ac09c00daf10bc3c4e223b          betty blowtorch  2137\n",
       "1  00000c289a1829a808ac09c00daf10bc3c4e223b                die Ärzte  1099\n",
       "2  00000c289a1829a808ac09c00daf10bc3c4e223b        melissa etheridge   897\n",
       "3  00000c289a1829a808ac09c00daf10bc3c4e223b                elvenking   717\n",
       "4  00000c289a1829a808ac09c00daf10bc3c4e223b     juliette & the licks   706\n",
       "5  00000c289a1829a808ac09c00daf10bc3c4e223b    red hot chili peppers   691\n",
       "6  00000c289a1829a808ac09c00daf10bc3c4e223b                   magica   545\n",
       "7  00000c289a1829a808ac09c00daf10bc3c4e223b  the black dahlia murder   507\n",
       "8  00000c289a1829a808ac09c00daf10bc3c4e223b              the murmurs   424\n",
       "9  00000c289a1829a808ac09c00daf10bc3c4e223b               lunachicks   403"
      ]
     },
     "execution_count": 3,
     "metadata": {},
     "output_type": "execute_result"
    }
   ],
   "source": [
    "# artist_MBID 항목은 우리의 관심사가 아닙니다. 사용하는 컬럼만 남기고 제거\n",
    "# 사용하는 컬럼만 남겨줍니다.\n",
    "using_cols = ['user_id', 'artist', 'play']\n",
    "data = data[using_cols]\n",
    "data.head(10)"
   ]
  },
  {
   "cell_type": "code",
   "execution_count": 4,
   "id": "b391e784",
   "metadata": {},
   "outputs": [
    {
     "data": {
      "text/html": [
       "<div>\n",
       "<style scoped>\n",
       "    .dataframe tbody tr th:only-of-type {\n",
       "        vertical-align: middle;\n",
       "    }\n",
       "\n",
       "    .dataframe tbody tr th {\n",
       "        vertical-align: top;\n",
       "    }\n",
       "\n",
       "    .dataframe thead th {\n",
       "        text-align: right;\n",
       "    }\n",
       "</style>\n",
       "<table border=\"1\" class=\"dataframe\">\n",
       "  <thead>\n",
       "    <tr style=\"text-align: right;\">\n",
       "      <th></th>\n",
       "      <th>user_id</th>\n",
       "      <th>artist</th>\n",
       "      <th>play</th>\n",
       "    </tr>\n",
       "  </thead>\n",
       "  <tbody>\n",
       "    <tr>\n",
       "      <th>0</th>\n",
       "      <td>00000c289a1829a808ac09c00daf10bc3c4e223b</td>\n",
       "      <td>betty blowtorch</td>\n",
       "      <td>2137</td>\n",
       "    </tr>\n",
       "    <tr>\n",
       "      <th>1</th>\n",
       "      <td>00000c289a1829a808ac09c00daf10bc3c4e223b</td>\n",
       "      <td>die ärzte</td>\n",
       "      <td>1099</td>\n",
       "    </tr>\n",
       "    <tr>\n",
       "      <th>2</th>\n",
       "      <td>00000c289a1829a808ac09c00daf10bc3c4e223b</td>\n",
       "      <td>melissa etheridge</td>\n",
       "      <td>897</td>\n",
       "    </tr>\n",
       "    <tr>\n",
       "      <th>3</th>\n",
       "      <td>00000c289a1829a808ac09c00daf10bc3c4e223b</td>\n",
       "      <td>elvenking</td>\n",
       "      <td>717</td>\n",
       "    </tr>\n",
       "    <tr>\n",
       "      <th>4</th>\n",
       "      <td>00000c289a1829a808ac09c00daf10bc3c4e223b</td>\n",
       "      <td>juliette &amp; the licks</td>\n",
       "      <td>706</td>\n",
       "    </tr>\n",
       "    <tr>\n",
       "      <th>5</th>\n",
       "      <td>00000c289a1829a808ac09c00daf10bc3c4e223b</td>\n",
       "      <td>red hot chili peppers</td>\n",
       "      <td>691</td>\n",
       "    </tr>\n",
       "    <tr>\n",
       "      <th>6</th>\n",
       "      <td>00000c289a1829a808ac09c00daf10bc3c4e223b</td>\n",
       "      <td>magica</td>\n",
       "      <td>545</td>\n",
       "    </tr>\n",
       "    <tr>\n",
       "      <th>7</th>\n",
       "      <td>00000c289a1829a808ac09c00daf10bc3c4e223b</td>\n",
       "      <td>the black dahlia murder</td>\n",
       "      <td>507</td>\n",
       "    </tr>\n",
       "    <tr>\n",
       "      <th>8</th>\n",
       "      <td>00000c289a1829a808ac09c00daf10bc3c4e223b</td>\n",
       "      <td>the murmurs</td>\n",
       "      <td>424</td>\n",
       "    </tr>\n",
       "    <tr>\n",
       "      <th>9</th>\n",
       "      <td>00000c289a1829a808ac09c00daf10bc3c4e223b</td>\n",
       "      <td>lunachicks</td>\n",
       "      <td>403</td>\n",
       "    </tr>\n",
       "  </tbody>\n",
       "</table>\n",
       "</div>"
      ],
      "text/plain": [
       "                                    user_id                   artist  play\n",
       "0  00000c289a1829a808ac09c00daf10bc3c4e223b          betty blowtorch  2137\n",
       "1  00000c289a1829a808ac09c00daf10bc3c4e223b                die ärzte  1099\n",
       "2  00000c289a1829a808ac09c00daf10bc3c4e223b        melissa etheridge   897\n",
       "3  00000c289a1829a808ac09c00daf10bc3c4e223b                elvenking   717\n",
       "4  00000c289a1829a808ac09c00daf10bc3c4e223b     juliette & the licks   706\n",
       "5  00000c289a1829a808ac09c00daf10bc3c4e223b    red hot chili peppers   691\n",
       "6  00000c289a1829a808ac09c00daf10bc3c4e223b                   magica   545\n",
       "7  00000c289a1829a808ac09c00daf10bc3c4e223b  the black dahlia murder   507\n",
       "8  00000c289a1829a808ac09c00daf10bc3c4e223b              the murmurs   424\n",
       "9  00000c289a1829a808ac09c00daf10bc3c4e223b               lunachicks   403"
      ]
     },
     "execution_count": 4,
     "metadata": {},
     "output_type": "execute_result"
    }
   ],
   "source": [
    "# 검색을 쉽게 하기 위해 아티스트 문자열을 소문자로 바꿔주기\n",
    "data['artist'] = data['artist'].str.lower()  \n",
    "data.head(10)"
   ]
  },
  {
   "cell_type": "code",
   "execution_count": 5,
   "id": "49945edc",
   "metadata": {},
   "outputs": [
    {
     "data": {
      "text/html": [
       "<div>\n",
       "<style scoped>\n",
       "    .dataframe tbody tr th:only-of-type {\n",
       "        vertical-align: middle;\n",
       "    }\n",
       "\n",
       "    .dataframe tbody tr th {\n",
       "        vertical-align: top;\n",
       "    }\n",
       "\n",
       "    .dataframe thead th {\n",
       "        text-align: right;\n",
       "    }\n",
       "</style>\n",
       "<table border=\"1\" class=\"dataframe\">\n",
       "  <thead>\n",
       "    <tr style=\"text-align: right;\">\n",
       "      <th></th>\n",
       "      <th>user_id</th>\n",
       "      <th>artist</th>\n",
       "      <th>play</th>\n",
       "    </tr>\n",
       "  </thead>\n",
       "  <tbody>\n",
       "    <tr>\n",
       "      <th>0</th>\n",
       "      <td>00000c289a1829a808ac09c00daf10bc3c4e223b</td>\n",
       "      <td>betty blowtorch</td>\n",
       "      <td>2137</td>\n",
       "    </tr>\n",
       "    <tr>\n",
       "      <th>1</th>\n",
       "      <td>00000c289a1829a808ac09c00daf10bc3c4e223b</td>\n",
       "      <td>die ärzte</td>\n",
       "      <td>1099</td>\n",
       "    </tr>\n",
       "    <tr>\n",
       "      <th>2</th>\n",
       "      <td>00000c289a1829a808ac09c00daf10bc3c4e223b</td>\n",
       "      <td>melissa etheridge</td>\n",
       "      <td>897</td>\n",
       "    </tr>\n",
       "    <tr>\n",
       "      <th>3</th>\n",
       "      <td>00000c289a1829a808ac09c00daf10bc3c4e223b</td>\n",
       "      <td>elvenking</td>\n",
       "      <td>717</td>\n",
       "    </tr>\n",
       "    <tr>\n",
       "      <th>4</th>\n",
       "      <td>00000c289a1829a808ac09c00daf10bc3c4e223b</td>\n",
       "      <td>juliette &amp; the licks</td>\n",
       "      <td>706</td>\n",
       "    </tr>\n",
       "    <tr>\n",
       "      <th>5</th>\n",
       "      <td>00000c289a1829a808ac09c00daf10bc3c4e223b</td>\n",
       "      <td>red hot chili peppers</td>\n",
       "      <td>691</td>\n",
       "    </tr>\n",
       "    <tr>\n",
       "      <th>6</th>\n",
       "      <td>00000c289a1829a808ac09c00daf10bc3c4e223b</td>\n",
       "      <td>magica</td>\n",
       "      <td>545</td>\n",
       "    </tr>\n",
       "    <tr>\n",
       "      <th>7</th>\n",
       "      <td>00000c289a1829a808ac09c00daf10bc3c4e223b</td>\n",
       "      <td>the black dahlia murder</td>\n",
       "      <td>507</td>\n",
       "    </tr>\n",
       "    <tr>\n",
       "      <th>8</th>\n",
       "      <td>00000c289a1829a808ac09c00daf10bc3c4e223b</td>\n",
       "      <td>the murmurs</td>\n",
       "      <td>424</td>\n",
       "    </tr>\n",
       "    <tr>\n",
       "      <th>9</th>\n",
       "      <td>00000c289a1829a808ac09c00daf10bc3c4e223b</td>\n",
       "      <td>lunachicks</td>\n",
       "      <td>403</td>\n",
       "    </tr>\n",
       "    <tr>\n",
       "      <th>10</th>\n",
       "      <td>00000c289a1829a808ac09c00daf10bc3c4e223b</td>\n",
       "      <td>walls of jericho</td>\n",
       "      <td>393</td>\n",
       "    </tr>\n",
       "    <tr>\n",
       "      <th>11</th>\n",
       "      <td>00000c289a1829a808ac09c00daf10bc3c4e223b</td>\n",
       "      <td>letzte instanz</td>\n",
       "      <td>387</td>\n",
       "    </tr>\n",
       "    <tr>\n",
       "      <th>12</th>\n",
       "      <td>00000c289a1829a808ac09c00daf10bc3c4e223b</td>\n",
       "      <td>goldfrapp</td>\n",
       "      <td>361</td>\n",
       "    </tr>\n",
       "    <tr>\n",
       "      <th>13</th>\n",
       "      <td>00000c289a1829a808ac09c00daf10bc3c4e223b</td>\n",
       "      <td>horrorpops</td>\n",
       "      <td>358</td>\n",
       "    </tr>\n",
       "    <tr>\n",
       "      <th>14</th>\n",
       "      <td>00000c289a1829a808ac09c00daf10bc3c4e223b</td>\n",
       "      <td>the butchies</td>\n",
       "      <td>329</td>\n",
       "    </tr>\n",
       "    <tr>\n",
       "      <th>15</th>\n",
       "      <td>00000c289a1829a808ac09c00daf10bc3c4e223b</td>\n",
       "      <td>jack off jill</td>\n",
       "      <td>316</td>\n",
       "    </tr>\n",
       "    <tr>\n",
       "      <th>16</th>\n",
       "      <td>00000c289a1829a808ac09c00daf10bc3c4e223b</td>\n",
       "      <td>babes in toyland</td>\n",
       "      <td>310</td>\n",
       "    </tr>\n",
       "    <tr>\n",
       "      <th>17</th>\n",
       "      <td>00000c289a1829a808ac09c00daf10bc3c4e223b</td>\n",
       "      <td>dropkick murphys</td>\n",
       "      <td>302</td>\n",
       "    </tr>\n",
       "    <tr>\n",
       "      <th>18</th>\n",
       "      <td>00000c289a1829a808ac09c00daf10bc3c4e223b</td>\n",
       "      <td>all:my:faults</td>\n",
       "      <td>288</td>\n",
       "    </tr>\n",
       "    <tr>\n",
       "      <th>19</th>\n",
       "      <td>00000c289a1829a808ac09c00daf10bc3c4e223b</td>\n",
       "      <td>le tigre</td>\n",
       "      <td>281</td>\n",
       "    </tr>\n",
       "    <tr>\n",
       "      <th>20</th>\n",
       "      <td>00000c289a1829a808ac09c00daf10bc3c4e223b</td>\n",
       "      <td>schandmaul</td>\n",
       "      <td>244</td>\n",
       "    </tr>\n",
       "    <tr>\n",
       "      <th>21</th>\n",
       "      <td>00000c289a1829a808ac09c00daf10bc3c4e223b</td>\n",
       "      <td>edguy</td>\n",
       "      <td>232</td>\n",
       "    </tr>\n",
       "    <tr>\n",
       "      <th>22</th>\n",
       "      <td>00000c289a1829a808ac09c00daf10bc3c4e223b</td>\n",
       "      <td>maximum the hormone</td>\n",
       "      <td>231</td>\n",
       "    </tr>\n",
       "    <tr>\n",
       "      <th>23</th>\n",
       "      <td>00000c289a1829a808ac09c00daf10bc3c4e223b</td>\n",
       "      <td>all ends</td>\n",
       "      <td>229</td>\n",
       "    </tr>\n",
       "    <tr>\n",
       "      <th>24</th>\n",
       "      <td>00000c289a1829a808ac09c00daf10bc3c4e223b</td>\n",
       "      <td>jack johnson</td>\n",
       "      <td>227</td>\n",
       "    </tr>\n",
       "    <tr>\n",
       "      <th>25</th>\n",
       "      <td>00000c289a1829a808ac09c00daf10bc3c4e223b</td>\n",
       "      <td>eluveitie</td>\n",
       "      <td>222</td>\n",
       "    </tr>\n",
       "    <tr>\n",
       "      <th>26</th>\n",
       "      <td>00000c289a1829a808ac09c00daf10bc3c4e223b</td>\n",
       "      <td>rasputina</td>\n",
       "      <td>220</td>\n",
       "    </tr>\n",
       "    <tr>\n",
       "      <th>27</th>\n",
       "      <td>00000c289a1829a808ac09c00daf10bc3c4e223b</td>\n",
       "      <td>london after midnight</td>\n",
       "      <td>210</td>\n",
       "    </tr>\n",
       "    <tr>\n",
       "      <th>28</th>\n",
       "      <td>00000c289a1829a808ac09c00daf10bc3c4e223b</td>\n",
       "      <td>the killers</td>\n",
       "      <td>208</td>\n",
       "    </tr>\n",
       "    <tr>\n",
       "      <th>29</th>\n",
       "      <td>00000c289a1829a808ac09c00daf10bc3c4e223b</td>\n",
       "      <td>mutyumu</td>\n",
       "      <td>205</td>\n",
       "    </tr>\n",
       "    <tr>\n",
       "      <th>30</th>\n",
       "      <td>00000c289a1829a808ac09c00daf10bc3c4e223b</td>\n",
       "      <td>judas priest</td>\n",
       "      <td>198</td>\n",
       "    </tr>\n",
       "    <tr>\n",
       "      <th>31</th>\n",
       "      <td>00000c289a1829a808ac09c00daf10bc3c4e223b</td>\n",
       "      <td>rob zombie</td>\n",
       "      <td>198</td>\n",
       "    </tr>\n",
       "    <tr>\n",
       "      <th>32</th>\n",
       "      <td>00000c289a1829a808ac09c00daf10bc3c4e223b</td>\n",
       "      <td>the bosshoss</td>\n",
       "      <td>189</td>\n",
       "    </tr>\n",
       "    <tr>\n",
       "      <th>33</th>\n",
       "      <td>00000c289a1829a808ac09c00daf10bc3c4e223b</td>\n",
       "      <td>blue öyster cult</td>\n",
       "      <td>185</td>\n",
       "    </tr>\n",
       "    <tr>\n",
       "      <th>34</th>\n",
       "      <td>00000c289a1829a808ac09c00daf10bc3c4e223b</td>\n",
       "      <td>sandra nasic</td>\n",
       "      <td>183</td>\n",
       "    </tr>\n",
       "    <tr>\n",
       "      <th>35</th>\n",
       "      <td>00000c289a1829a808ac09c00daf10bc3c4e223b</td>\n",
       "      <td>john mayer</td>\n",
       "      <td>182</td>\n",
       "    </tr>\n",
       "    <tr>\n",
       "      <th>36</th>\n",
       "      <td>00000c289a1829a808ac09c00daf10bc3c4e223b</td>\n",
       "      <td>sleater-kinney</td>\n",
       "      <td>175</td>\n",
       "    </tr>\n",
       "    <tr>\n",
       "      <th>37</th>\n",
       "      <td>00000c289a1829a808ac09c00daf10bc3c4e223b</td>\n",
       "      <td>the who</td>\n",
       "      <td>168</td>\n",
       "    </tr>\n",
       "    <tr>\n",
       "      <th>38</th>\n",
       "      <td>00000c289a1829a808ac09c00daf10bc3c4e223b</td>\n",
       "      <td>disciple</td>\n",
       "      <td>154</td>\n",
       "    </tr>\n",
       "    <tr>\n",
       "      <th>39</th>\n",
       "      <td>00000c289a1829a808ac09c00daf10bc3c4e223b</td>\n",
       "      <td>tanzwut</td>\n",
       "      <td>153</td>\n",
       "    </tr>\n",
       "    <tr>\n",
       "      <th>40</th>\n",
       "      <td>00000c289a1829a808ac09c00daf10bc3c4e223b</td>\n",
       "      <td>guano apes</td>\n",
       "      <td>151</td>\n",
       "    </tr>\n",
       "    <tr>\n",
       "      <th>41</th>\n",
       "      <td>00000c289a1829a808ac09c00daf10bc3c4e223b</td>\n",
       "      <td>the rolling stones</td>\n",
       "      <td>150</td>\n",
       "    </tr>\n",
       "    <tr>\n",
       "      <th>42</th>\n",
       "      <td>00000c289a1829a808ac09c00daf10bc3c4e223b</td>\n",
       "      <td>little big town</td>\n",
       "      <td>145</td>\n",
       "    </tr>\n",
       "    <tr>\n",
       "      <th>43</th>\n",
       "      <td>00000c289a1829a808ac09c00daf10bc3c4e223b</td>\n",
       "      <td>team dresch</td>\n",
       "      <td>137</td>\n",
       "    </tr>\n",
       "    <tr>\n",
       "      <th>44</th>\n",
       "      <td>00000c289a1829a808ac09c00daf10bc3c4e223b</td>\n",
       "      <td>betty</td>\n",
       "      <td>135</td>\n",
       "    </tr>\n",
       "    <tr>\n",
       "      <th>45</th>\n",
       "      <td>00000c289a1829a808ac09c00daf10bc3c4e223b</td>\n",
       "      <td>l7</td>\n",
       "      <td>135</td>\n",
       "    </tr>\n",
       "    <tr>\n",
       "      <th>46</th>\n",
       "      <td>00000c289a1829a808ac09c00daf10bc3c4e223b</td>\n",
       "      <td>bif naked</td>\n",
       "      <td>134</td>\n",
       "    </tr>\n",
       "    <tr>\n",
       "      <th>47</th>\n",
       "      <td>00000c289a1829a808ac09c00daf10bc3c4e223b</td>\n",
       "      <td>girlschool</td>\n",
       "      <td>134</td>\n",
       "    </tr>\n",
       "    <tr>\n",
       "      <th>48</th>\n",
       "      <td>00000c289a1829a808ac09c00daf10bc3c4e223b</td>\n",
       "      <td>the wallflowers</td>\n",
       "      <td>131</td>\n",
       "    </tr>\n",
       "  </tbody>\n",
       "</table>\n",
       "</div>"
      ],
      "text/plain": [
       "                                     user_id                   artist  play\n",
       "0   00000c289a1829a808ac09c00daf10bc3c4e223b          betty blowtorch  2137\n",
       "1   00000c289a1829a808ac09c00daf10bc3c4e223b                die ärzte  1099\n",
       "2   00000c289a1829a808ac09c00daf10bc3c4e223b        melissa etheridge   897\n",
       "3   00000c289a1829a808ac09c00daf10bc3c4e223b                elvenking   717\n",
       "4   00000c289a1829a808ac09c00daf10bc3c4e223b     juliette & the licks   706\n",
       "5   00000c289a1829a808ac09c00daf10bc3c4e223b    red hot chili peppers   691\n",
       "6   00000c289a1829a808ac09c00daf10bc3c4e223b                   magica   545\n",
       "7   00000c289a1829a808ac09c00daf10bc3c4e223b  the black dahlia murder   507\n",
       "8   00000c289a1829a808ac09c00daf10bc3c4e223b              the murmurs   424\n",
       "9   00000c289a1829a808ac09c00daf10bc3c4e223b               lunachicks   403\n",
       "10  00000c289a1829a808ac09c00daf10bc3c4e223b         walls of jericho   393\n",
       "11  00000c289a1829a808ac09c00daf10bc3c4e223b           letzte instanz   387\n",
       "12  00000c289a1829a808ac09c00daf10bc3c4e223b                goldfrapp   361\n",
       "13  00000c289a1829a808ac09c00daf10bc3c4e223b               horrorpops   358\n",
       "14  00000c289a1829a808ac09c00daf10bc3c4e223b             the butchies   329\n",
       "15  00000c289a1829a808ac09c00daf10bc3c4e223b            jack off jill   316\n",
       "16  00000c289a1829a808ac09c00daf10bc3c4e223b         babes in toyland   310\n",
       "17  00000c289a1829a808ac09c00daf10bc3c4e223b         dropkick murphys   302\n",
       "18  00000c289a1829a808ac09c00daf10bc3c4e223b            all:my:faults   288\n",
       "19  00000c289a1829a808ac09c00daf10bc3c4e223b                 le tigre   281\n",
       "20  00000c289a1829a808ac09c00daf10bc3c4e223b               schandmaul   244\n",
       "21  00000c289a1829a808ac09c00daf10bc3c4e223b                    edguy   232\n",
       "22  00000c289a1829a808ac09c00daf10bc3c4e223b      maximum the hormone   231\n",
       "23  00000c289a1829a808ac09c00daf10bc3c4e223b                 all ends   229\n",
       "24  00000c289a1829a808ac09c00daf10bc3c4e223b             jack johnson   227\n",
       "25  00000c289a1829a808ac09c00daf10bc3c4e223b                eluveitie   222\n",
       "26  00000c289a1829a808ac09c00daf10bc3c4e223b                rasputina   220\n",
       "27  00000c289a1829a808ac09c00daf10bc3c4e223b    london after midnight   210\n",
       "28  00000c289a1829a808ac09c00daf10bc3c4e223b              the killers   208\n",
       "29  00000c289a1829a808ac09c00daf10bc3c4e223b                  mutyumu   205\n",
       "30  00000c289a1829a808ac09c00daf10bc3c4e223b             judas priest   198\n",
       "31  00000c289a1829a808ac09c00daf10bc3c4e223b               rob zombie   198\n",
       "32  00000c289a1829a808ac09c00daf10bc3c4e223b             the bosshoss   189\n",
       "33  00000c289a1829a808ac09c00daf10bc3c4e223b         blue öyster cult   185\n",
       "34  00000c289a1829a808ac09c00daf10bc3c4e223b             sandra nasic   183\n",
       "35  00000c289a1829a808ac09c00daf10bc3c4e223b               john mayer   182\n",
       "36  00000c289a1829a808ac09c00daf10bc3c4e223b           sleater-kinney   175\n",
       "37  00000c289a1829a808ac09c00daf10bc3c4e223b                  the who   168\n",
       "38  00000c289a1829a808ac09c00daf10bc3c4e223b                 disciple   154\n",
       "39  00000c289a1829a808ac09c00daf10bc3c4e223b                  tanzwut   153\n",
       "40  00000c289a1829a808ac09c00daf10bc3c4e223b               guano apes   151\n",
       "41  00000c289a1829a808ac09c00daf10bc3c4e223b       the rolling stones   150\n",
       "42  00000c289a1829a808ac09c00daf10bc3c4e223b          little big town   145\n",
       "43  00000c289a1829a808ac09c00daf10bc3c4e223b              team dresch   137\n",
       "44  00000c289a1829a808ac09c00daf10bc3c4e223b                    betty   135\n",
       "45  00000c289a1829a808ac09c00daf10bc3c4e223b                       l7   135\n",
       "46  00000c289a1829a808ac09c00daf10bc3c4e223b                bif naked   134\n",
       "47  00000c289a1829a808ac09c00daf10bc3c4e223b               girlschool   134\n",
       "48  00000c289a1829a808ac09c00daf10bc3c4e223b          the wallflowers   131"
      ]
     },
     "execution_count": 5,
     "metadata": {},
     "output_type": "execute_result"
    }
   ],
   "source": [
    "# 첫 번째 유저가 어떤 아티스트의 노래를 듣는지 확인\n",
    "condition = (data['user_id']== data.loc[0, 'user_id'])\n",
    "data.loc[condition]"
   ]
  },
  {
   "cell_type": "markdown",
   "id": "a52c795f",
   "metadata": {},
   "source": [
    "### 데이터 탐색\n",
    "추천 모델을 만들기 전에 데이터의 기본적인 정보를 보고 갑시다. 아래 항목들을 확인해 보고 싶습니다.\n",
    "\n",
    "유저 수, 아티스트 수, 인기 많은 아티스트\n",
    "유저들이 몇 명의 아티스트를 듣고 있는지에 대한 통계\n",
    "유저 play 횟수 중앙값에 대한 통계\n",
    "(참고) pandas.DataFrame.nunique()은 특정 컬럼에 포함된 유니크한 데이터의 개수를 알아보는데 유용합니다."
   ]
  },
  {
   "cell_type": "code",
   "execution_count": 6,
   "id": "c00235eb",
   "metadata": {},
   "outputs": [
    {
     "data": {
      "text/plain": [
       "358868"
      ]
     },
     "execution_count": 6,
     "metadata": {},
     "output_type": "execute_result"
    }
   ],
   "source": [
    "# 유저 수\n",
    "data['user_id'].nunique()"
   ]
  },
  {
   "cell_type": "code",
   "execution_count": 7,
   "id": "aa71a01b",
   "metadata": {},
   "outputs": [
    {
     "data": {
      "text/plain": [
       "291346"
      ]
     },
     "execution_count": 7,
     "metadata": {},
     "output_type": "execute_result"
    }
   ],
   "source": [
    "# 아티스트 수\n",
    "data['artist'].nunique()"
   ]
  },
  {
   "cell_type": "code",
   "execution_count": 8,
   "id": "b56c5a96",
   "metadata": {},
   "outputs": [
    {
     "data": {
      "text/plain": [
       "artist\n",
       "radiohead                77254\n",
       "the beatles              76245\n",
       "coldplay                 66658\n",
       "red hot chili peppers    48924\n",
       "muse                     46954\n",
       "metallica                45233\n",
       "pink floyd               44443\n",
       "the killers              41229\n",
       "linkin park              39773\n",
       "nirvana                  39479\n",
       "system of a down         37267\n",
       "queen                    34174\n",
       "u2                       33206\n",
       "daft punk                33001\n",
       "the cure                 32624\n",
       "led zeppelin             32295\n",
       "placebo                  32072\n",
       "depeche mode             31916\n",
       "david bowie              31862\n",
       "bob dylan                31799\n",
       "death cab for cutie      31482\n",
       "arctic monkeys           30348\n",
       "foo fighters             30144\n",
       "air                      29795\n",
       "the rolling stones       29754\n",
       "nine inch nails          28946\n",
       "sigur rós                28901\n",
       "green day                28732\n",
       "massive attack           28691\n",
       "moby                     28232\n",
       "Name: user_id, dtype: int64"
      ]
     },
     "execution_count": 8,
     "metadata": {},
     "output_type": "execute_result"
    }
   ],
   "source": [
    "# 인기 많은 아티스트\n",
    "artist_count = data.groupby('artist')['user_id'].count()\n",
    "artist_count.sort_values(ascending=False).head(30)"
   ]
  },
  {
   "cell_type": "code",
   "execution_count": 9,
   "id": "c237b474",
   "metadata": {},
   "outputs": [
    {
     "data": {
      "text/plain": [
       "count    358868.000000\n",
       "mean         48.863234\n",
       "std           8.524272\n",
       "min           1.000000\n",
       "25%          46.000000\n",
       "50%          49.000000\n",
       "75%          51.000000\n",
       "max         166.000000\n",
       "Name: artist, dtype: float64"
      ]
     },
     "execution_count": 9,
     "metadata": {},
     "output_type": "execute_result"
    }
   ],
   "source": [
    "# 유저별 몇 명의 아티스트를 듣고 있는지에 대한 통계\n",
    "user_count = data.groupby('user_id')['artist'].count()\n",
    "user_count.describe()"
   ]
  },
  {
   "cell_type": "code",
   "execution_count": 10,
   "id": "7b5880e4",
   "metadata": {},
   "outputs": [
    {
     "data": {
      "text/plain": [
       "count    358868.000000\n",
       "mean        142.187676\n",
       "std         213.089902\n",
       "min           1.000000\n",
       "25%          32.000000\n",
       "50%          83.000000\n",
       "75%         180.000000\n",
       "max       50142.000000\n",
       "Name: play, dtype: float64"
      ]
     },
     "execution_count": 10,
     "metadata": {},
     "output_type": "execute_result"
    }
   ],
   "source": [
    "# 유저별 play횟수 중앙값에 대한 통계\n",
    "user_median = data.groupby('user_id')['play'].median()\n",
    "user_median.describe()"
   ]
  },
  {
   "cell_type": "markdown",
   "id": "0cdfc0ba",
   "metadata": {},
   "source": [
    "### 모델 검증을 위한 사용자 초기 정보 세팅\n",
    "우리는 본인의 음악 취향과 가장 유사한 아티스트를 추천받고 싶습니다. 유튜브 뮤직 등 추천 시스템들은 이를 위해서 처음 가입하는 사용자의 취향과 유사한 아티스트 정보를 5개 이상 입력받는 과정을 거치게 하는 경우가 많습니다.\n",
    "우리도 동일한 과정이 필요합니다. 우리가 만든 추천 시스템의 추후 검증 과정을 위해, '나는 A를 좋아한다.'라는 정보를 위 데이터셋에 5개 이상 추가해 주어야 합니다. 저는 아래와 같이 제가 좋아하는 유명한 아티스트들을 기존의 데이터에 추가해서 넣겠습니다."
   ]
  },
  {
   "cell_type": "code",
   "execution_count": 11,
   "id": "64b3b1d5",
   "metadata": {},
   "outputs": [
    {
     "data": {
      "text/html": [
       "<div>\n",
       "<style scoped>\n",
       "    .dataframe tbody tr th:only-of-type {\n",
       "        vertical-align: middle;\n",
       "    }\n",
       "\n",
       "    .dataframe tbody tr th {\n",
       "        vertical-align: top;\n",
       "    }\n",
       "\n",
       "    .dataframe thead th {\n",
       "        text-align: right;\n",
       "    }\n",
       "</style>\n",
       "<table border=\"1\" class=\"dataframe\">\n",
       "  <thead>\n",
       "    <tr style=\"text-align: right;\">\n",
       "      <th></th>\n",
       "      <th>user_id</th>\n",
       "      <th>artist</th>\n",
       "      <th>play</th>\n",
       "    </tr>\n",
       "  </thead>\n",
       "  <tbody>\n",
       "    <tr>\n",
       "      <th>17535650</th>\n",
       "      <td>sep 20, 2008</td>\n",
       "      <td>turbostaat</td>\n",
       "      <td>12</td>\n",
       "    </tr>\n",
       "    <tr>\n",
       "      <th>17535651</th>\n",
       "      <td>sep 20, 2008</td>\n",
       "      <td>cuba missouri</td>\n",
       "      <td>11</td>\n",
       "    </tr>\n",
       "    <tr>\n",
       "      <th>17535652</th>\n",
       "      <td>sep 20, 2008</td>\n",
       "      <td>little man tate</td>\n",
       "      <td>11</td>\n",
       "    </tr>\n",
       "    <tr>\n",
       "      <th>17535653</th>\n",
       "      <td>sep 20, 2008</td>\n",
       "      <td>sigur rós</td>\n",
       "      <td>10</td>\n",
       "    </tr>\n",
       "    <tr>\n",
       "      <th>17535654</th>\n",
       "      <td>sep 20, 2008</td>\n",
       "      <td>the smiths</td>\n",
       "      <td>10</td>\n",
       "    </tr>\n",
       "    <tr>\n",
       "      <th>0</th>\n",
       "      <td>zimin</td>\n",
       "      <td>black eyed peas</td>\n",
       "      <td>30</td>\n",
       "    </tr>\n",
       "    <tr>\n",
       "      <th>1</th>\n",
       "      <td>zimin</td>\n",
       "      <td>maroon5</td>\n",
       "      <td>30</td>\n",
       "    </tr>\n",
       "    <tr>\n",
       "      <th>2</th>\n",
       "      <td>zimin</td>\n",
       "      <td>jason mraz</td>\n",
       "      <td>30</td>\n",
       "    </tr>\n",
       "    <tr>\n",
       "      <th>3</th>\n",
       "      <td>zimin</td>\n",
       "      <td>coldplay</td>\n",
       "      <td>30</td>\n",
       "    </tr>\n",
       "    <tr>\n",
       "      <th>4</th>\n",
       "      <td>zimin</td>\n",
       "      <td>beyoncé</td>\n",
       "      <td>30</td>\n",
       "    </tr>\n",
       "  </tbody>\n",
       "</table>\n",
       "</div>"
      ],
      "text/plain": [
       "               user_id           artist  play\n",
       "17535650  sep 20, 2008       turbostaat    12\n",
       "17535651  sep 20, 2008    cuba missouri    11\n",
       "17535652  sep 20, 2008  little man tate    11\n",
       "17535653  sep 20, 2008        sigur rós    10\n",
       "17535654  sep 20, 2008       the smiths    10\n",
       "0                zimin  black eyed peas    30\n",
       "1                zimin          maroon5    30\n",
       "2                zimin       jason mraz    30\n",
       "3                zimin         coldplay    30\n",
       "4                zimin          beyoncé    30"
      ]
     },
     "execution_count": 11,
     "metadata": {},
     "output_type": "execute_result"
    }
   ],
   "source": [
    "# 본인이 좋아하시는 아티스트 데이터로 바꿔서 추가하셔도 됩니다! 단, 이름은 꼭 데이터셋에 있는 것과 동일하게 맞춰주세요. \n",
    "my_favorite = ['black eyed peas' , 'maroon5' ,'jason mraz' ,'coldplay' ,'beyoncé']\n",
    "\n",
    "# 'zimin'이라는 user_id가 위 아티스트의 노래를 30회씩 들었다고 가정하겠습니다.\n",
    "my_playlist = pd.DataFrame({'user_id': ['zimin']*5, 'artist': my_favorite, 'play':[30]*5})\n",
    "\n",
    "if not data.isin({'user_id':['zimin']})['user_id'].any():  # user_id에 'zimin'이라는 데이터가 없다면\n",
    "    data = data.append(my_playlist)                           # 위에 임의로 만든 my_favorite 데이터를 추가해 줍니다. \n",
    "\n",
    "data.tail(10)       # 잘 추가되었는지 확인해 봅시다."
   ]
  },
  {
   "cell_type": "markdown",
   "id": "feb6a987",
   "metadata": {},
   "source": [
    "### 모델에 활용하기 위한 전처리 (실습)\n",
    "사람이 태어나면 주민등록번호가, 학교에 가면 출석번호가 있듯이 데이터의 관리를 쉽게 하기 위해 번호를 붙여주고 싶습니다. 우리가 다루는 데이터에서는 user와 artist 각각에 번호를 붙이고 싶습니다. 보통 이런 작업을 indexing이라고 합니다. 추천 시스템, 자연어 처리에서 자주 하는 작업들이라 직접 해보시면 좋겠습니다.\n",
    "\n",
    "(참고) pandas.DataFrame.unique()은 특정 컬럼에 포함된 유니크한 데이터만 모아 줍니다. indexing 작업을 위해 매우 유용합니다."
   ]
  },
  {
   "cell_type": "code",
   "execution_count": 12,
   "id": "b02e5b47",
   "metadata": {},
   "outputs": [],
   "source": [
    "# 고유한 유저, 아티스트를 찾아내는 코드\n",
    "user_unique = data['user_id'].unique()\n",
    "artist_unique = data['artist'].unique()\n",
    "\n",
    "# 유저, 아티스트 indexing 하는 코드 idx는 index의 약자입니다.\n",
    "user_to_idx = {v:k for k,v in enumerate(user_unique)}\n",
    "artist_to_idx = {v:k for k,v in enumerate(artist_unique)}"
   ]
  },
  {
   "cell_type": "code",
   "execution_count": 13,
   "id": "4b844b59",
   "metadata": {},
   "outputs": [
    {
     "name": "stdout",
     "output_type": "stream",
     "text": [
      "358868\n",
      "376\n"
     ]
    }
   ],
   "source": [
    "# 인덱싱이 잘 되었는지 확인해 봅니다. \n",
    "print(user_to_idx['zimin'])    # 358869명의 유저 중 마지막으로 추가된 유저이니 358868이 나와야 합니다. \n",
    "print(artist_to_idx['black eyed peas'])"
   ]
  },
  {
   "cell_type": "code",
   "execution_count": 14,
   "id": "4e8d8b24",
   "metadata": {},
   "outputs": [
    {
     "name": "stdout",
     "output_type": "stream",
     "text": [
      "user_id column indexing OK!!\n",
      "artist column indexing OK!!\n"
     ]
    },
    {
     "data": {
      "text/html": [
       "<div>\n",
       "<style scoped>\n",
       "    .dataframe tbody tr th:only-of-type {\n",
       "        vertical-align: middle;\n",
       "    }\n",
       "\n",
       "    .dataframe tbody tr th {\n",
       "        vertical-align: top;\n",
       "    }\n",
       "\n",
       "    .dataframe thead th {\n",
       "        text-align: right;\n",
       "    }\n",
       "</style>\n",
       "<table border=\"1\" class=\"dataframe\">\n",
       "  <thead>\n",
       "    <tr style=\"text-align: right;\">\n",
       "      <th></th>\n",
       "      <th>user_id</th>\n",
       "      <th>artist</th>\n",
       "      <th>play</th>\n",
       "    </tr>\n",
       "  </thead>\n",
       "  <tbody>\n",
       "    <tr>\n",
       "      <th>0</th>\n",
       "      <td>0</td>\n",
       "      <td>0</td>\n",
       "      <td>2137</td>\n",
       "    </tr>\n",
       "    <tr>\n",
       "      <th>1</th>\n",
       "      <td>0</td>\n",
       "      <td>1</td>\n",
       "      <td>1099</td>\n",
       "    </tr>\n",
       "    <tr>\n",
       "      <th>2</th>\n",
       "      <td>0</td>\n",
       "      <td>2</td>\n",
       "      <td>897</td>\n",
       "    </tr>\n",
       "    <tr>\n",
       "      <th>3</th>\n",
       "      <td>0</td>\n",
       "      <td>3</td>\n",
       "      <td>717</td>\n",
       "    </tr>\n",
       "    <tr>\n",
       "      <th>4</th>\n",
       "      <td>0</td>\n",
       "      <td>4</td>\n",
       "      <td>706</td>\n",
       "    </tr>\n",
       "    <tr>\n",
       "      <th>...</th>\n",
       "      <td>...</td>\n",
       "      <td>...</td>\n",
       "      <td>...</td>\n",
       "    </tr>\n",
       "    <tr>\n",
       "      <th>0</th>\n",
       "      <td>358868</td>\n",
       "      <td>376</td>\n",
       "      <td>30</td>\n",
       "    </tr>\n",
       "    <tr>\n",
       "      <th>1</th>\n",
       "      <td>358868</td>\n",
       "      <td>270115</td>\n",
       "      <td>30</td>\n",
       "    </tr>\n",
       "    <tr>\n",
       "      <th>2</th>\n",
       "      <td>358868</td>\n",
       "      <td>3746</td>\n",
       "      <td>30</td>\n",
       "    </tr>\n",
       "    <tr>\n",
       "      <th>3</th>\n",
       "      <td>358868</td>\n",
       "      <td>62</td>\n",
       "      <td>30</td>\n",
       "    </tr>\n",
       "    <tr>\n",
       "      <th>4</th>\n",
       "      <td>358868</td>\n",
       "      <td>396</td>\n",
       "      <td>30</td>\n",
       "    </tr>\n",
       "  </tbody>\n",
       "</table>\n",
       "<p>17535660 rows × 3 columns</p>\n",
       "</div>"
      ],
      "text/plain": [
       "    user_id  artist  play\n",
       "0         0       0  2137\n",
       "1         0       1  1099\n",
       "2         0       2   897\n",
       "3         0       3   717\n",
       "4         0       4   706\n",
       "..      ...     ...   ...\n",
       "0    358868     376    30\n",
       "1    358868  270115    30\n",
       "2    358868    3746    30\n",
       "3    358868      62    30\n",
       "4    358868     396    30\n",
       "\n",
       "[17535660 rows x 3 columns]"
      ]
     },
     "execution_count": 14,
     "metadata": {},
     "output_type": "execute_result"
    }
   ],
   "source": [
    "# indexing을 통해 데이터 컬럼 내 값을 바꾸는 코드\n",
    "# dictionary 자료형의 get 함수는 https://wikidocs.net/16 을 참고하세요.\n",
    "\n",
    "# user_to_idx.get을 통해 user_id 컬럼의 모든 값을 인덱싱한 Series를 구해 봅시다. \n",
    "# 혹시 정상적으로 인덱싱되지 않은 row가 있다면 인덱스가 NaN이 될 테니 dropna()로 제거합니다. \n",
    "temp_user_data = data['user_id'].map(user_to_idx.get).dropna()\n",
    "if len(temp_user_data) == len(data):   # 모든 row가 정상적으로 인덱싱되었다면\n",
    "    print('user_id column indexing OK!!')\n",
    "    data['user_id'] = temp_user_data   # data['user_id']을 인덱싱된 Series로 교체해 줍니다. \n",
    "else:\n",
    "    print('user_id column indexing Fail!!')\n",
    "\n",
    "# artist_to_idx을 통해 artist 컬럼도 동일한 방식으로 인덱싱해 줍니다. \n",
    "temp_artist_data = data['artist'].map(artist_to_idx.get).dropna()\n",
    "if len(temp_artist_data) == len(data):\n",
    "    print('artist column indexing OK!!')\n",
    "    data['artist'] = temp_artist_data\n",
    "else:\n",
    "    print('artist column indexing Fail!!')\n",
    "\n",
    "data\n",
    "\n",
    "# data의 user_id와 artist 컬럼 내 값들이 모두 정수 인덱스 값으로 잘 변경되었나요? 이것으로 훈련을 위한 전처리가 완료"
   ]
  },
  {
   "cell_type": "markdown",
   "id": "23252e27",
   "metadata": {},
   "source": [
    "# 14-4 사용자의 명시적. 암묵적 평가\n",
    "우리의 추천 시스템은 사용자들이 아이템을 얼마나 선호하는지를 모델링 하기를 원합니다. 그러자면 사용자의 아이템 선호도를 말해 주는 유저 행동 데이터셋이 필요합니다. 만약 우리 데이터가 좋아요나 별점처럼 선호도를 명시적(explicit)으로 나타내는 것이라면 참 좋겠지만, 지금 우리가 가지고 있는 데이터는 사용자가 아티스트의 곡을 몇 번 플레이했나 하는 것뿐입니다. 이렇게 서비스를 사용하면서 자연스럽게 발생하는 암묵적(implicit)인 피드백도 사용자의 아이템에 대한 평가를 알 수 있는 단서가 될 수 있습니다.\n",
    "\n",
    "Collaborative Filtering for Implicit Feedback Datasets 논문에는 추천시스템에서 암묵적 피드백 데이터셋을 활용할 때의 고민이 잘 담겨있습니다. 해당 논문에서는 이를 위해 염두해두어야할 암묵적 피드백 데이터셋의 특징을 다음과 같이 정리합니다.\n",
    "\n",
    "부정적인 피드백이 없다.(No Negative Feedback)\n",
    "애초에 잡음이 많다.(Inherently Noisy)\n",
    "수치는 신뢰도를 의미한다.(The numerical value of implicit feedback indicates confidence)\n",
    "Implicit-feedback Recommender System의 평가는 적절한 방법을 고민해봐야 한다.(Evaluation of implicit-feedback recommender requires appropriate measures)\n",
    "\n",
    "#### 암묵적 평가가 될 수 있는 데이터 사례 : 예시로 든 플레이 횟수, 플레이 시간 이외에도 클릭 수, 구매 여부, 플레이 스킵 여부, 검색 기록, 방문 페이지 이력, 구매 내역, 심지어 마우스 움직임 기록도 암묵적 평가 데이터셋이 될 수 있습니다."
   ]
  },
  {
   "cell_type": "code",
   "execution_count": 15,
   "id": "dd22f399",
   "metadata": {},
   "outputs": [
    {
     "name": "stdout",
     "output_type": "stream",
     "text": [
      "147740,17535660\n",
      "Ratio of only_one over all data is 0.84%\n"
     ]
    }
   ],
   "source": [
    "# 우리의 데이터셋에서 1회만 플레이한 데이터의 비율은 어떻게 될까\n",
    "# 1회만 play한 데이터의 비율을 보는 코드\n",
    "only_one = data[data['play']<2]\n",
    "one, all_data = len(only_one), len(data)\n",
    "print(f'{one},{all_data}')\n",
    "print(f'Ratio of only_one over all data is {one/all_data:.2%}')  # f-format에 대한 설명은 https://bit.ly/2DTLqYU"
   ]
  },
  {
   "cell_type": "markdown",
   "id": "4f0cbbef",
   "metadata": {},
   "source": [
    "우리가 앞으로 만들어갈 모델에서는 암묵적 데이터의 해석을 위해 다음과 같은 규칙을 적용할 것입니다.\n",
    "\n",
    "한 번이라도 들었으면 선호한다고 판단한다.\n",
    "많이 재생한 아티스트에 대해 가중치를 주어서 더 확실히 좋아한다고 판단한다."
   ]
  },
  {
   "cell_type": "markdown",
   "id": "83bfe45a",
   "metadata": {},
   "source": [
    "# 14-5 Matrix Factorization(MF)\n",
    "####  내용 읽고 숙지하기"
   ]
  },
  {
   "cell_type": "code",
   "execution_count": 16,
   "id": "210e65be",
   "metadata": {},
   "outputs": [
    {
     "data": {
      "text/plain": [
       "<358869x291347 sparse matrix of type '<class 'numpy.int64'>'\n",
       "\twith 17535578 stored elements in Compressed Sparse Row format>"
      ]
     },
     "execution_count": 16,
     "metadata": {},
     "output_type": "execute_result"
    }
   ],
   "source": [
    "# 14-6. CSR(Compressed Sparse Row) Matrix\n",
    "# 실습 위에 설명보고 이해해서 만들어보기\n",
    "from scipy.sparse import csr_matrix\n",
    "\n",
    "num_user = data['user_id'].nunique()\n",
    "num_artist = data['artist'].nunique()\n",
    "\n",
    "csr_data = csr_matrix((data.play, (data.user_id, data.artist)), shape= (num_user, num_artist))\n",
    "csr_data"
   ]
  },
  {
   "cell_type": "code",
   "execution_count": 17,
   "id": "b892ba7e",
   "metadata": {},
   "outputs": [],
   "source": [
    "# 14-7. MF 모델 학습하기\n",
    "from implicit.als import AlternatingLeastSquares\n",
    "import os\n",
    "import numpy as np\n",
    "\n",
    "# implicit 라이브러리에서 권장하고 있는 부분입니다. 학습 내용과는 무관합니다.\n",
    "os.environ['OPENBLAS_NUM_THREADS']='1'\n",
    "os.environ['KMP_DUPLICATE_LIB_OK']='True'\n",
    "os.environ['MKL_NUM_THREADS']='1'"
   ]
  },
  {
   "cell_type": "markdown",
   "id": "387a9003",
   "metadata": {},
   "source": [
    "AlternatingLeastSquares 클래스의 __init__ 파라미터를 살펴보겠습니다.\n",
    "\n",
    "factors : 유저와 아이템의 벡터를 몇 차원으로 할 것인지\n",
    "regularization : 과적합을 방지하기 위해 정규화 값을 얼마나 사용할 것인지\n",
    "use_gpu : GPU를 사용할 것인지\n",
    "iterations : epㅡochs와 같은 의미입니다. 데이터를 몇 번 반복해서 학습할 것인지\n",
    "1과 4를 늘릴수록 학습 데이터를 잘 학습하게 되지만 과적합의 우려가 있으니 좋은 값을 찾아야 합니다."
   ]
  },
  {
   "cell_type": "code",
   "execution_count": 18,
   "id": "a14d84c3",
   "metadata": {},
   "outputs": [],
   "source": [
    "# Implicit AlternatingLeastSquares 모델의 선언\n",
    "als_model = AlternatingLeastSquares(factors=100, regularization=0.01, use_gpu=False, iterations=15, dtype=np.float32)"
   ]
  },
  {
   "cell_type": "code",
   "execution_count": 19,
   "id": "8344ff85",
   "metadata": {},
   "outputs": [
    {
     "data": {
      "text/plain": [
       "<291347x358869 sparse matrix of type '<class 'numpy.int64'>'\n",
       "\twith 17535578 stored elements in Compressed Sparse Column format>"
      ]
     },
     "execution_count": 19,
     "metadata": {},
     "output_type": "execute_result"
    }
   ],
   "source": [
    "# als 모델은 input으로 (item X user 꼴의 matrix를 받기 때문에 Transpose해줍니다.)\n",
    "csr_data_transpose = csr_data.T\n",
    "csr_data_transpose"
   ]
  },
  {
   "cell_type": "code",
   "execution_count": 20,
   "id": "e81a1418",
   "metadata": {},
   "outputs": [
    {
     "data": {
      "application/vnd.jupyter.widget-view+json": {
       "model_id": "a480dede40394f8993cb74840e70cb61",
       "version_major": 2,
       "version_minor": 0
      },
      "text/plain": [
       "  0%|          | 0/15 [00:00<?, ?it/s]"
      ]
     },
     "metadata": {},
     "output_type": "display_data"
    }
   ],
   "source": [
    "# 모델 훈련\n",
    "als_model.fit(csr_data_transpose)"
   ]
  },
  {
   "cell_type": "markdown",
   "id": "6378d4fa",
   "metadata": {},
   "source": [
    "모델 학습이 끝났습니다! 이제 2가지를 아래 사항을 살펴보도록 하겠습니다.\n",
    "\n",
    "Zimin 벡터와 black eyed peas의 벡터를 어떻게 만들고 있는지\n",
    "두 벡터를 곱하면 어떤 값이 나오는지\n"
   ]
  },
  {
   "cell_type": "code",
   "execution_count": 21,
   "id": "57aee764",
   "metadata": {},
   "outputs": [
    {
     "name": "stdout",
     "output_type": "stream",
     "text": [
      "슝=3\n"
     ]
    }
   ],
   "source": [
    "zimin, black_eyed_peas = user_to_idx['zimin'], artist_to_idx['black eyed peas']\n",
    "zimin_vector, black_eyed_peas_vector = als_model.user_factors[zimin], als_model.item_factors[black_eyed_peas]\n",
    "\n",
    "print('슝=3')"
   ]
  },
  {
   "cell_type": "code",
   "execution_count": 22,
   "id": "d0d23344",
   "metadata": {},
   "outputs": [
    {
     "data": {
      "text/plain": [
       "array([ 0.40562347, -1.4776256 ,  0.10781313,  0.44726148,  0.5274953 ,\n",
       "        1.0716636 ,  0.1457008 ,  0.07530029, -0.9451218 , -0.806063  ,\n",
       "        0.41195503,  0.36000395,  0.20018499, -0.37465802,  0.1867896 ,\n",
       "        0.36034158,  1.2259891 , -0.9034962 , -0.61038125,  1.3125517 ,\n",
       "        0.9700898 ,  0.5052057 , -0.10149574, -0.29265785,  0.06059025,\n",
       "       -0.66739136, -0.1591255 , -1.0972909 ,  0.48007536, -1.1650581 ,\n",
       "       -0.11816178, -0.21167395, -0.25891498,  0.3015671 ,  0.96242696,\n",
       "        0.6059361 ,  0.73553056, -0.53388685, -0.29013437, -0.5254302 ,\n",
       "        0.6760978 ,  2.487069  , -0.860021  ,  0.30270377,  0.56782144,\n",
       "        1.0430251 , -0.57952887,  0.05045291,  0.10252837,  0.74130046,\n",
       "        0.4539996 ,  0.5654878 , -0.6876215 ,  0.28874767, -0.5384011 ,\n",
       "       -0.57474566, -0.4728877 , -0.10025198,  0.86448306,  1.1205504 ,\n",
       "       -0.8840902 ,  0.02513876,  0.37822095,  0.17042898, -0.61320484,\n",
       "       -0.7179101 ,  0.6849019 ,  0.52000076, -0.25232774,  1.2631829 ,\n",
       "        0.70854944, -1.5845071 ,  1.0797422 , -0.31669715,  0.13251138,\n",
       "       -0.05395785,  0.22284453, -0.1615626 , -0.14870791,  0.69111055,\n",
       "       -1.0333908 , -0.5786815 ,  0.18638866,  0.2569549 , -0.21017441,\n",
       "        0.25294188,  0.95101017, -0.02546066, -0.58096576,  0.2476568 ,\n",
       "       -0.53249806, -0.64840275, -0.94784796, -0.95520926, -0.14409193,\n",
       "       -0.57394624, -0.3735887 , -0.4560244 ,  0.3054184 ,  0.3176612 ],\n",
       "      dtype=float32)"
      ]
     },
     "execution_count": 22,
     "metadata": {},
     "output_type": "execute_result"
    }
   ],
   "source": [
    "zimin_vector"
   ]
  },
  {
   "cell_type": "code",
   "execution_count": 23,
   "id": "1c6598f1",
   "metadata": {},
   "outputs": [
    {
     "data": {
      "text/plain": [
       "array([ 1.31008569e-02, -1.28060021e-02, -9.03285574e-03,  7.69249257e-03,\n",
       "       -3.63770360e-03,  7.66540412e-03,  3.13658314e-03,  1.26015833e-02,\n",
       "       -1.77369807e-02, -2.14815559e-03,  1.41575234e-02,  1.24826822e-02,\n",
       "        2.09217854e-02,  2.02067988e-03, -3.23329936e-03,  1.15524232e-02,\n",
       "        6.24650344e-03,  1.21368486e-02, -1.26786400e-02,  3.60154361e-02,\n",
       "        2.01015081e-02,  7.95678981e-03,  1.50885899e-02,  1.28776487e-02,\n",
       "        1.63693484e-02,  7.63537921e-03,  1.20867379e-02,  2.93593784e-03,\n",
       "        1.57273840e-02, -5.25258016e-03, -2.46823952e-03,  6.34931866e-03,\n",
       "       -9.65766236e-03,  1.13856774e-02,  1.62597876e-02,  2.00056415e-02,\n",
       "        5.75010665e-03,  9.75150522e-03,  3.52852466e-03,  4.55803191e-03,\n",
       "        8.50307196e-03,  4.49800976e-02, -6.43530302e-03, -3.71435308e-03,\n",
       "        1.54512329e-02,  2.53619682e-02, -1.57195449e-04,  7.21251545e-03,\n",
       "        5.37858112e-03,  1.56748295e-02,  3.89283034e-03,  2.56702844e-02,\n",
       "       -1.32196154e-02,  5.51633583e-03,  2.16215834e-04, -5.18175913e-03,\n",
       "       -4.20576573e-04,  1.54796867e-02,  1.47475936e-02,  7.66807888e-03,\n",
       "        2.29806220e-03, -6.13895664e-03,  8.95512756e-03, -2.48794421e-03,\n",
       "        1.14257622e-03, -7.72393774e-04,  1.93378348e-02,  1.82857048e-02,\n",
       "        8.07356276e-03, -5.76870661e-05,  2.13192403e-02, -1.38810901e-02,\n",
       "        1.41212558e-02,  1.08335502e-02,  4.54645045e-03, -2.46296986e-03,\n",
       "        1.52269769e-02,  1.15849040e-02,  1.16007787e-03,  2.64238268e-02,\n",
       "       -2.06296984e-03,  4.78222966e-03,  2.18549557e-02,  6.85926760e-04,\n",
       "       -6.22014934e-03,  2.83154286e-03,  1.89347770e-02,  1.02021836e-03,\n",
       "        1.47159881e-04,  1.14012407e-02, -6.25421107e-03, -8.34698323e-03,\n",
       "       -1.01776356e-02,  1.06679136e-02,  2.76395236e-03, -2.98777525e-03,\n",
       "       -2.44800118e-03,  1.56226745e-02,  6.57567801e-03,  7.14389235e-03],\n",
       "      dtype=float32)"
      ]
     },
     "execution_count": 23,
     "metadata": {},
     "output_type": "execute_result"
    }
   ],
   "source": [
    "black_eyed_peas_vector"
   ]
  },
  {
   "cell_type": "code",
   "execution_count": 24,
   "id": "2cde21dc",
   "metadata": {},
   "outputs": [
    {
     "data": {
      "text/plain": [
       "0.516993"
      ]
     },
     "execution_count": 24,
     "metadata": {},
     "output_type": "execute_result"
    }
   ],
   "source": [
    "# zimin과 black_eyed_peas_vector\n",
    "np.dot(zimin_vector, black_eyed_peas_vector)"
   ]
  },
  {
   "cell_type": "code",
   "execution_count": 25,
   "id": "e1a65521",
   "metadata": {},
   "outputs": [
    {
     "data": {
      "text/plain": [
       "0.30090287"
      ]
     },
     "execution_count": 25,
     "metadata": {},
     "output_type": "execute_result"
    }
   ],
   "source": [
    "# 모델이 저의 queen에 대한 선호도를 어떻게 예측할지 한 번 보겠다.\n",
    "queen = artist_to_idx['queen']\n",
    "queen_vector = als_model.item_factors[queen]\n",
    "np.dot(zimin_vector, queen_vector)"
   ]
  },
  {
   "cell_type": "markdown",
   "id": "fc00d709",
   "metadata": {},
   "source": [
    "# 14-8. 비슷한 아티스트 찾기 + 유저에게 추천하기\n",
    "### 비슷한 아티스트 찾기\n",
    "AlternatingLeastSquares 클래스에 구현되어 있는 similar_items 메서드를 통하여 비슷한 아티스트를 찾습니다. 처음으로는 제가 좋아하는 coldplay로 찾아보겠습니다."
   ]
  },
  {
   "cell_type": "code",
   "execution_count": 26,
   "id": "5f1b584b",
   "metadata": {},
   "outputs": [
    {
     "data": {
      "text/plain": [
       "[(62, 1.0000001),\n",
       " (277, 0.98391867),\n",
       " (28, 0.9775297),\n",
       " (5, 0.9737771),\n",
       " (217, 0.96519715),\n",
       " (473, 0.9640922),\n",
       " (490, 0.95895135),\n",
       " (247, 0.95140356),\n",
       " (418, 0.950458),\n",
       " (694, 0.94646156),\n",
       " (1018, 0.9341587),\n",
       " (531, 0.93130815),\n",
       " (55, 0.9311003),\n",
       " (910, 0.931049),\n",
       " (782, 0.9304351)]"
      ]
     },
     "execution_count": 26,
     "metadata": {},
     "output_type": "execute_result"
    }
   ],
   "source": [
    "favorite_artist = 'coldplay'\n",
    "artist_id = artist_to_idx[favorite_artist]\n",
    "similar_artist = als_model.similar_items(artist_id, N=15)\n",
    "similar_artist"
   ]
  },
  {
   "cell_type": "code",
   "execution_count": 27,
   "id": "dbecb601",
   "metadata": {},
   "outputs": [
    {
     "data": {
      "text/plain": [
       "['coldplay',\n",
       " 'muse',\n",
       " 'the killers',\n",
       " 'red hot chili peppers',\n",
       " 'radiohead',\n",
       " 'placebo',\n",
       " 'oasis',\n",
       " 'the beatles',\n",
       " 'u2',\n",
       " 'foo fighters',\n",
       " 'the smashing pumpkins',\n",
       " 'depeche mode',\n",
       " 'arctic monkeys',\n",
       " 'nirvana',\n",
       " 'the white stripes']"
      ]
     },
     "execution_count": 27,
     "metadata": {},
     "output_type": "execute_result"
    }
   ],
   "source": [
    "# (아티스트의 id, 유사도) Tuple 로 반환하고 있습니다. 아티스트의 id를 다시 아티스트의 이름으로 매핑 시켜 주겠습니다.\n",
    "#artist_to_idx 를 뒤집어, index로부터 artist 이름을 얻는 dict를 생성합니다. \n",
    "idx_to_artist = {v:k for k,v in artist_to_idx.items()}\n",
    "[idx_to_artist[i[0]] for i in similar_artist]"
   ]
  },
  {
   "cell_type": "code",
   "execution_count": 28,
   "id": "ff3acc8b",
   "metadata": {},
   "outputs": [
    {
     "name": "stdout",
     "output_type": "stream",
     "text": [
      "슝=3\n"
     ]
    }
   ],
   "source": [
    "# 몇 번 더 반복해서 확인하기 위해 위의 코드를 함수로 만들고 확인\n",
    "def get_similar_artist(artist_name: str):\n",
    "    artist_id = artist_to_idx[artist_name]\n",
    "    similar_artist = als_model.similar_items(artist_id)\n",
    "    similar_artist = [idx_to_artist[i[0]] for i in similar_artist]\n",
    "    return similar_artist\n",
    "\n",
    "print(\"슝=3\")"
   ]
  },
  {
   "cell_type": "code",
   "execution_count": 29,
   "id": "0f6a85ea",
   "metadata": {},
   "outputs": [
    {
     "data": {
      "text/plain": [
       "['2pac',\n",
       " 'notorious b.i.g.',\n",
       " 'dr. dre',\n",
       " 'the game',\n",
       " '50 cent',\n",
       " 'nas',\n",
       " 'snoop dogg',\n",
       " 'jay-z',\n",
       " 'dmx',\n",
       " 'ice cube']"
      ]
     },
     "execution_count": 29,
     "metadata": {},
     "output_type": "execute_result"
    }
   ],
   "source": [
    "# 저는 힙합도 좋아하기 때문에 2pac으로도 확인\n",
    "get_similar_artist('2pac')\n",
    "\n",
    "# 우와! 스눕독, 닥터 드레, 노토리우스, 나스, 제이지 같은 전설들이 추천. 힙합의 경우 마니아들이 많아서 더 잘 추천되는 것으로 생각"
   ]
  },
  {
   "cell_type": "markdown",
   "id": "defec66b",
   "metadata": {},
   "source": [
    "마니아는 데이터상에서 표현될 때 어떤 특징을 가질까요?\n",
    "마니아들은 특정 장르의 아티스트들에게로 선호도가 집중되고, 다른 장르의 아티스트들과는 선호도가 낮게 나타날 것입니다. 이런 마니아들의 존재로 인해 같은 장르의 아티스트들의 벡터들도 더 가까워져서 get_similar_artist시 장르별 특성이 두드러지게 될 것입니다."
   ]
  },
  {
   "cell_type": "code",
   "execution_count": 30,
   "id": "6a03fd09",
   "metadata": {},
   "outputs": [
    {
     "data": {
      "text/plain": [
       "['lady gaga',\n",
       " 'britney spears',\n",
       " 'rihanna',\n",
       " 'katy perry',\n",
       " 'beyoncé',\n",
       " 'the pussycat dolls',\n",
       " 'christina aguilera',\n",
       " 'kelly clarkson',\n",
       " 'justin timberlake',\n",
       " 'nelly furtado']"
      ]
     },
     "execution_count": 30,
     "metadata": {},
     "output_type": "execute_result"
    }
   ],
   "source": [
    "get_similar_artist('lady gaga') # lady gaga의 경우 여자 아티스트들이 추천되고 있다."
   ]
  },
  {
   "cell_type": "markdown",
   "id": "aefd156d",
   "metadata": {},
   "source": [
    "유저에게 아티스트 추천하기\n",
    "AlternatingLeastSquares 클래스에 구현되어 있는 recommend 메서드를 통하여 제가 좋아할 만한 아티스트를 추천받습니다. filter_already_liked_items 는 유저가 이미 평가한 아이템은 제외하는 Argument입니다."
   ]
  },
  {
   "cell_type": "code",
   "execution_count": 31,
   "id": "e6046744",
   "metadata": {},
   "outputs": [
    {
     "data": {
      "text/plain": [
       "[(350, 0.45262656),\n",
       " (627, 0.45230162),\n",
       " (369, 0.44545764),\n",
       " (550, 0.43912774),\n",
       " (354, 0.42447507),\n",
       " (409, 0.4217847),\n",
       " (1800, 0.4118349),\n",
       " (274, 0.40992516),\n",
       " (355, 0.40499842),\n",
       " (564, 0.39473763),\n",
       " (391, 0.39247614),\n",
       " (24, 0.3902123),\n",
       " (2249, 0.38899612),\n",
       " (5555, 0.38725126),\n",
       " (382, 0.38642973),\n",
       " (724, 0.3862334),\n",
       " (901, 0.3652159),\n",
       " (618, 0.36166114),\n",
       " (2902, 0.36134923),\n",
       " (1777, 0.3595782)]"
      ]
     },
     "execution_count": 31,
     "metadata": {},
     "output_type": "execute_result"
    }
   ],
   "source": [
    "user = user_to_idx['zimin']\n",
    "# recommend에서는 user*item CSR Matrix를 받습니다.\n",
    "artist_recommended = als_model.recommend(user, csr_data, N=20, filter_already_liked_items=True)\n",
    "artist_recommended"
   ]
  },
  {
   "cell_type": "code",
   "execution_count": 32,
   "id": "efdfe002",
   "metadata": {},
   "outputs": [
    {
     "data": {
      "text/plain": [
       "['rihanna',\n",
       " 'maroon 5',\n",
       " 'justin timberlake',\n",
       " 'britney spears',\n",
       " 'nelly furtado',\n",
       " 'amy winehouse',\n",
       " 'lady gaga',\n",
       " 'michael jackson',\n",
       " 'madonna',\n",
       " 'kanye west',\n",
       " 'christina aguilera',\n",
       " 'jack johnson',\n",
       " 'katy perry',\n",
       " 'timbaland',\n",
       " 'mika',\n",
       " 'lily allen',\n",
       " 'pink',\n",
       " 'the pussycat dolls',\n",
       " 'james blunt',\n",
       " 'mariah carey']"
      ]
     },
     "execution_count": 32,
     "metadata": {},
     "output_type": "execute_result"
    }
   ],
   "source": [
    "[idx_to_artist[i[0]] for i in artist_recommended]"
   ]
  },
  {
   "cell_type": "markdown",
   "id": "abb05584",
   "metadata": {},
   "source": [
    "rihanna를 추천해 주고 있네요. 모델은 왜 rihanna를 추천해 줬을까요? AlternatingLeastSquares 클래스에 구현된 explain 메서드를 사용하면 제가 기록을 남긴 데이터 중 이 추천에 기여한 정도를 확인할 수 있습니다."
   ]
  },
  {
   "cell_type": "code",
   "execution_count": 33,
   "id": "8491000f",
   "metadata": {},
   "outputs": [],
   "source": [
    "rihanna = artist_to_idx['rihanna']\n",
    "explain = als_model.explain(user, csr_data, itemid=rihanna)"
   ]
  },
  {
   "cell_type": "code",
   "execution_count": 34,
   "id": "f40ee5d3",
   "metadata": {},
   "outputs": [
    {
     "data": {
      "text/plain": [
       "[('beyoncé', 0.2235045595341693),\n",
       " ('black eyed peas', 0.14164937197935204),\n",
       " ('jason mraz', 0.053953072769826166),\n",
       " ('coldplay', 0.035218065976290264),\n",
       " ('maroon5', 8.548937111970897e-05)]"
      ]
     },
     "execution_count": 34,
     "metadata": {},
     "output_type": "execute_result"
    }
   ],
   "source": [
    "# 이 method는 추천한 콘텐츠의 점수에 기여한 다른 콘텐츠와 기여도(합이 콘텐츠의 점수가 된다.)를 반환합니다. 어떤 아티스트들이 이 추천에 얼마나 기여하고 있는 걸까요?\n",
    "\n",
    "[(idx_to_artist[i[0]], i[1]) for i in explain[1]]\n"
   ]
  },
  {
   "cell_type": "markdown",
   "id": "b29274fc",
   "metadata": {},
   "source": [
    "beyoncé와 black eyed peas가 가장 크게 기여했네요. 둘 다 흑인 아티스트이고 beyoncé의 경우는 같은 성별이라는 점도 크게 작용하지 않았을까 싶습니다.\n",
    "\n",
    "눈치채신 분도 있겠지만 결과가 조금 이상합니다. filter_already_liked_items=True로 했는데 앞에 maroon 5는 제가 이미 평가한 아이템이 나오고 있습니다. 이것은 implicit 버전 0.4.2에서 생긴 버그입니다. 코드는 사람이 만들기 때문에 이렇게 실수할 가능성이 있습니다.\n",
    "오픈 소스 생태계에서는 누구든 이런 문제점을 지적하고 Pull Request를 통하여 수정을 제안할 수 있습니다.\n",
    "많이들 사용하는 Tensorflow나 numpy, pandas도 여러 작은 버그들이 있습니다. 이런 유명한 패키지의 오류를 고쳐서 Pull Request를 하여 Contribute 한다면 좋은 이력이 되기도 합니다.\n",
    "\n",
    "모델이 추천한 20개 중 몇 개를 실제로 선호하는지 계산하여 모델의 객관적인 지표를 만들 수 있을 것 같습니다. 자세한 방법은 이쪽을 참고해 주세요.\n",
    "\n",
    "마무리\n",
    "후~ 고생 많으셨습니다!\n",
    "추천 시스템에서 Baseline으로 많이 사용되는 MF를 통해 유저에게 아티스트를 추천해 보았습니다. 이제 여러분은 추천 시스템 관련 task에서 기본 모델을 만드실 수 있을 겁니다.\n",
    "\n",
    "그러나 우리가 만든 모델은 몇 가지 아쉬운 점이 있습니다. 1. 유저, 아티스트에 대한 Meta 정보를 반영하기 쉽지 않습니다. 연령대별로 음악 취향이 굉장히 다르지 않을까요? 2. 유저가 언제 play 했는지에 반영하기 쉽지 않습니다. 10년 전에 즐겨듣던 아티스트와 지금 즐겨듣는 아티스트를 비교해 보세요.\n",
    "\n",
    "이러한 이유와 딥러닝의 발전으로 MF 이외의 모델 구조도 많이 연구/ 사용되고 있습니다. 하지만 어떤 추천 모델도 핵심은 MF와 비슷합니다.\n",
    "유저와 아이템에 대한 벡터를 잘 학습하여 취향에 맞게(유저에 맞게) 아이템을 보여주거나(Retrieval) 걸러내는(Filtering) 역할입니다."
   ]
  },
  {
   "cell_type": "markdown",
   "id": "6709b379",
   "metadata": {},
   "source": [
    "# 14-9. 프로젝트 - Movielens 영화 추천 실습\n",
    "\n",
    "이전 스텝에서 배운 MF 모델 학습 방법을 토대로, 내가 좋아할 만한 영화 추천 시스템을 제작해 보겠습니다.\n",
    "\n",
    "이번에 활용할 데이터셋은 추천 시스템의 MNIST라고 부를만한 Movielens 데이터입니다.\n",
    "\n",
    "유저가 영화에 대해 평점을 매긴 데이터가 데이터 크기 별로 있습니다. MovieLens 1M Dataset 사용을 권장합니다.\n",
    "별점 데이터는 대표적인 explicit 데이터입니다. 하지만 implicit 데이터로 간주하고 테스트해 볼 수 있습니다.\n",
    "별점을 시청횟수로 해석해서 생각하겠습니다.\n",
    "또한 유저가 3점 미만으로 준 데이터는 선호하지 않는다고 가정하고 제외하겠습니다.\n",
    "Cloud Storage에 미리 업로드된 ml-1m폴더 내 파일을 심볼릭 링크로 개인 storage에 연결해 줍니다.\n",
    "\n",
    "Cloud shell에서 아래 명령어를 입력해 주세요."
   ]
  },
  {
   "cell_type": "code",
   "execution_count": null,
   "id": "da8caccb",
   "metadata": {},
   "outputs": [],
   "source": [
    "$ mkdir -p ~/aiffel/recommendata_iu/data/ml-1m\n",
    "$ ln -s ~/data/ml-1m/* ~/aiffel/recommendata_iu/data/ml-1m"
   ]
  },
  {
   "cell_type": "markdown",
   "id": "b1adf218",
   "metadata": {},
   "source": [
    "# 1) 데이터 준비와 전처리\n",
    "Movielens 데이터는 rating.dat 안에 이미 인덱싱까지 완료된 사용자-영화-평점 데이터가 깔끔하게 정리되어 있습니다."
   ]
  },
  {
   "cell_type": "code",
   "execution_count": 2,
   "id": "7cf2973e",
   "metadata": {},
   "outputs": [
    {
     "data": {
      "text/html": [
       "<div>\n",
       "<style scoped>\n",
       "    .dataframe tbody tr th:only-of-type {\n",
       "        vertical-align: middle;\n",
       "    }\n",
       "\n",
       "    .dataframe tbody tr th {\n",
       "        vertical-align: top;\n",
       "    }\n",
       "\n",
       "    .dataframe thead th {\n",
       "        text-align: right;\n",
       "    }\n",
       "</style>\n",
       "<table border=\"1\" class=\"dataframe\">\n",
       "  <thead>\n",
       "    <tr style=\"text-align: right;\">\n",
       "      <th></th>\n",
       "      <th>user_id</th>\n",
       "      <th>movie_id</th>\n",
       "      <th>ratings</th>\n",
       "      <th>timestamp</th>\n",
       "    </tr>\n",
       "  </thead>\n",
       "  <tbody>\n",
       "    <tr>\n",
       "      <th>0</th>\n",
       "      <td>1</td>\n",
       "      <td>1193</td>\n",
       "      <td>5</td>\n",
       "      <td>978300760</td>\n",
       "    </tr>\n",
       "    <tr>\n",
       "      <th>1</th>\n",
       "      <td>1</td>\n",
       "      <td>661</td>\n",
       "      <td>3</td>\n",
       "      <td>978302109</td>\n",
       "    </tr>\n",
       "    <tr>\n",
       "      <th>2</th>\n",
       "      <td>1</td>\n",
       "      <td>914</td>\n",
       "      <td>3</td>\n",
       "      <td>978301968</td>\n",
       "    </tr>\n",
       "    <tr>\n",
       "      <th>3</th>\n",
       "      <td>1</td>\n",
       "      <td>3408</td>\n",
       "      <td>4</td>\n",
       "      <td>978300275</td>\n",
       "    </tr>\n",
       "    <tr>\n",
       "      <th>4</th>\n",
       "      <td>1</td>\n",
       "      <td>2355</td>\n",
       "      <td>5</td>\n",
       "      <td>978824291</td>\n",
       "    </tr>\n",
       "  </tbody>\n",
       "</table>\n",
       "</div>"
      ],
      "text/plain": [
       "   user_id  movie_id  ratings  timestamp\n",
       "0        1      1193        5  978300760\n",
       "1        1       661        3  978302109\n",
       "2        1       914        3  978301968\n",
       "3        1      3408        4  978300275\n",
       "4        1      2355        5  978824291"
      ]
     },
     "execution_count": 2,
     "metadata": {},
     "output_type": "execute_result"
    }
   ],
   "source": [
    "import pandas as pd\n",
    "import os\n",
    "\n",
    "rating_file_path=os.getenv('HOME') + '/aiffel/recommendata_iu/data/ml-1m/ratings.dat'\n",
    "ratings_cols = ['user_id', 'movie_id', 'ratings', 'timestamp']\n",
    "ratings = pd.read_csv(rating_file_path, sep='::', names=ratings_cols, engine='python', encoding = \"ISO-8859-1\")\n",
    "orginal_data_size = len(ratings)\n",
    "ratings.head()"
   ]
  },
  {
   "cell_type": "code",
   "execution_count": 3,
   "id": "bec1f6b1",
   "metadata": {},
   "outputs": [
    {
     "name": "stdout",
     "output_type": "stream",
     "text": [
      "orginal_data_size: 1000209, filtered_data_size: 836478\n",
      "Ratio of Remaining Data is 83.63%\n"
     ]
    }
   ],
   "source": [
    "# 3점 이상만 남깁니다.\n",
    "ratings = ratings[ratings['ratings']>=3]\n",
    "filtered_data_size = len(ratings)\n",
    "\n",
    "print(f'orginal_data_size: {orginal_data_size}, filtered_data_size: {filtered_data_size}')\n",
    "print(f'Ratio of Remaining Data is {filtered_data_size / orginal_data_size:.2%}')"
   ]
  },
  {
   "cell_type": "code",
   "execution_count": 4,
   "id": "3676630a",
   "metadata": {},
   "outputs": [],
   "source": [
    "# ratings 컬럼의 이름을 counts로 바꿉니다.\n",
    "ratings.rename(columns={'ratings':'counts'}, inplace=True)"
   ]
  },
  {
   "cell_type": "code",
   "execution_count": 5,
   "id": "4aaf21e1",
   "metadata": {},
   "outputs": [
    {
     "data": {
      "text/plain": [
       "0          5\n",
       "1          3\n",
       "2          3\n",
       "3          4\n",
       "4          5\n",
       "          ..\n",
       "1000203    3\n",
       "1000205    5\n",
       "1000206    5\n",
       "1000207    4\n",
       "1000208    4\n",
       "Name: counts, Length: 836478, dtype: int64"
      ]
     },
     "execution_count": 5,
     "metadata": {},
     "output_type": "execute_result"
    }
   ],
   "source": [
    "ratings['counts']"
   ]
  },
  {
   "cell_type": "code",
   "execution_count": 21,
   "id": "554184cb",
   "metadata": {
    "scrolled": true
   },
   "outputs": [
    {
     "data": {
      "text/html": [
       "<div>\n",
       "<style scoped>\n",
       "    .dataframe tbody tr th:only-of-type {\n",
       "        vertical-align: middle;\n",
       "    }\n",
       "\n",
       "    .dataframe tbody tr th {\n",
       "        vertical-align: top;\n",
       "    }\n",
       "\n",
       "    .dataframe thead th {\n",
       "        text-align: right;\n",
       "    }\n",
       "</style>\n",
       "<table border=\"1\" class=\"dataframe\">\n",
       "  <thead>\n",
       "    <tr style=\"text-align: right;\">\n",
       "      <th></th>\n",
       "      <th>movie_id</th>\n",
       "      <th>title</th>\n",
       "      <th>genre</th>\n",
       "    </tr>\n",
       "  </thead>\n",
       "  <tbody>\n",
       "    <tr>\n",
       "      <th>0</th>\n",
       "      <td>1</td>\n",
       "      <td>Toy Story (1995)</td>\n",
       "      <td>Animation|Children's|Comedy</td>\n",
       "    </tr>\n",
       "    <tr>\n",
       "      <th>1</th>\n",
       "      <td>2</td>\n",
       "      <td>Jumanji (1995)</td>\n",
       "      <td>Adventure|Children's|Fantasy</td>\n",
       "    </tr>\n",
       "    <tr>\n",
       "      <th>2</th>\n",
       "      <td>3</td>\n",
       "      <td>Grumpier Old Men (1995)</td>\n",
       "      <td>Comedy|Romance</td>\n",
       "    </tr>\n",
       "    <tr>\n",
       "      <th>3</th>\n",
       "      <td>4</td>\n",
       "      <td>Waiting to Exhale (1995)</td>\n",
       "      <td>Comedy|Drama</td>\n",
       "    </tr>\n",
       "    <tr>\n",
       "      <th>4</th>\n",
       "      <td>5</td>\n",
       "      <td>Father of the Bride Part II (1995)</td>\n",
       "      <td>Comedy</td>\n",
       "    </tr>\n",
       "  </tbody>\n",
       "</table>\n",
       "</div>"
      ],
      "text/plain": [
       "   movie_id                               title                         genre\n",
       "0         1                    Toy Story (1995)   Animation|Children's|Comedy\n",
       "1         2                      Jumanji (1995)  Adventure|Children's|Fantasy\n",
       "2         3             Grumpier Old Men (1995)                Comedy|Romance\n",
       "3         4            Waiting to Exhale (1995)                  Comedy|Drama\n",
       "4         5  Father of the Bride Part II (1995)                        Comedy"
      ]
     },
     "execution_count": 21,
     "metadata": {},
     "output_type": "execute_result"
    }
   ],
   "source": [
    "# 영화 제목을 보기 위해 메타 데이터를 읽어옵니다.\n",
    "movie_file_path=os.getenv('HOME') + '/aiffel/recommendata_iu/data/ml-1m/movies.dat'\n",
    "cols = ['movie_id', 'title', 'genre'] \n",
    "movies = pd.read_csv(movie_file_path, sep='::', names=cols, engine='python', encoding='ISO-8859-1')\n",
    "movies.head()"
   ]
  },
  {
   "cell_type": "markdown",
   "id": "59065b22",
   "metadata": {},
   "source": [
    "여기까지가 전처리입니다. 이후에는 이전 스텝에 소개했던 것과 동일한 방식으로 MF model을 구성하여 내가 좋아할 만한 영화를 추천해 볼 수 있습니다."
   ]
  },
  {
   "cell_type": "code",
   "execution_count": 22,
   "id": "f0205498",
   "metadata": {
    "scrolled": true
   },
   "outputs": [
    {
     "data": {
      "text/html": [
       "<div>\n",
       "<style scoped>\n",
       "    .dataframe tbody tr th:only-of-type {\n",
       "        vertical-align: middle;\n",
       "    }\n",
       "\n",
       "    .dataframe tbody tr th {\n",
       "        vertical-align: top;\n",
       "    }\n",
       "\n",
       "    .dataframe thead th {\n",
       "        text-align: right;\n",
       "    }\n",
       "</style>\n",
       "<table border=\"1\" class=\"dataframe\">\n",
       "  <thead>\n",
       "    <tr style=\"text-align: right;\">\n",
       "      <th></th>\n",
       "      <th>user_id</th>\n",
       "      <th>movie_id</th>\n",
       "      <th>counts</th>\n",
       "      <th>timestamp</th>\n",
       "      <th>title</th>\n",
       "    </tr>\n",
       "  </thead>\n",
       "  <tbody>\n",
       "    <tr>\n",
       "      <th>0</th>\n",
       "      <td>1</td>\n",
       "      <td>1193</td>\n",
       "      <td>5</td>\n",
       "      <td>978300760</td>\n",
       "      <td>One Flew Over the Cuckoo's Nest (1975)</td>\n",
       "    </tr>\n",
       "    <tr>\n",
       "      <th>1</th>\n",
       "      <td>1</td>\n",
       "      <td>661</td>\n",
       "      <td>3</td>\n",
       "      <td>978302109</td>\n",
       "      <td>James and the Giant Peach (1996)</td>\n",
       "    </tr>\n",
       "    <tr>\n",
       "      <th>2</th>\n",
       "      <td>1</td>\n",
       "      <td>914</td>\n",
       "      <td>3</td>\n",
       "      <td>978301968</td>\n",
       "      <td>My Fair Lady (1964)</td>\n",
       "    </tr>\n",
       "    <tr>\n",
       "      <th>3</th>\n",
       "      <td>1</td>\n",
       "      <td>3408</td>\n",
       "      <td>4</td>\n",
       "      <td>978300275</td>\n",
       "      <td>Erin Brockovich (2000)</td>\n",
       "    </tr>\n",
       "    <tr>\n",
       "      <th>4</th>\n",
       "      <td>1</td>\n",
       "      <td>2355</td>\n",
       "      <td>5</td>\n",
       "      <td>978824291</td>\n",
       "      <td>Bug's Life, A (1998)</td>\n",
       "    </tr>\n",
       "    <tr>\n",
       "      <th>...</th>\n",
       "      <td>...</td>\n",
       "      <td>...</td>\n",
       "      <td>...</td>\n",
       "      <td>...</td>\n",
       "      <td>...</td>\n",
       "    </tr>\n",
       "    <tr>\n",
       "      <th>836473</th>\n",
       "      <td>6040</td>\n",
       "      <td>1090</td>\n",
       "      <td>3</td>\n",
       "      <td>956715518</td>\n",
       "      <td>Platoon (1986)</td>\n",
       "    </tr>\n",
       "    <tr>\n",
       "      <th>836474</th>\n",
       "      <td>6040</td>\n",
       "      <td>1094</td>\n",
       "      <td>5</td>\n",
       "      <td>956704887</td>\n",
       "      <td>Crying Game, The (1992)</td>\n",
       "    </tr>\n",
       "    <tr>\n",
       "      <th>836475</th>\n",
       "      <td>6040</td>\n",
       "      <td>562</td>\n",
       "      <td>5</td>\n",
       "      <td>956704746</td>\n",
       "      <td>Welcome to the Dollhouse (1995)</td>\n",
       "    </tr>\n",
       "    <tr>\n",
       "      <th>836476</th>\n",
       "      <td>6040</td>\n",
       "      <td>1096</td>\n",
       "      <td>4</td>\n",
       "      <td>956715648</td>\n",
       "      <td>Sophie's Choice (1982)</td>\n",
       "    </tr>\n",
       "    <tr>\n",
       "      <th>836477</th>\n",
       "      <td>6040</td>\n",
       "      <td>1097</td>\n",
       "      <td>4</td>\n",
       "      <td>956715569</td>\n",
       "      <td>E.T. the Extra-Terrestrial (1982)</td>\n",
       "    </tr>\n",
       "  </tbody>\n",
       "</table>\n",
       "<p>836478 rows × 5 columns</p>\n",
       "</div>"
      ],
      "text/plain": [
       "        user_id  movie_id  counts  timestamp  \\\n",
       "0             1      1193       5  978300760   \n",
       "1             1       661       3  978302109   \n",
       "2             1       914       3  978301968   \n",
       "3             1      3408       4  978300275   \n",
       "4             1      2355       5  978824291   \n",
       "...         ...       ...     ...        ...   \n",
       "836473     6040      1090       3  956715518   \n",
       "836474     6040      1094       5  956704887   \n",
       "836475     6040       562       5  956704746   \n",
       "836476     6040      1096       4  956715648   \n",
       "836477     6040      1097       4  956715569   \n",
       "\n",
       "                                         title  \n",
       "0       One Flew Over the Cuckoo's Nest (1975)  \n",
       "1             James and the Giant Peach (1996)  \n",
       "2                          My Fair Lady (1964)  \n",
       "3                       Erin Brockovich (2000)  \n",
       "4                         Bug's Life, A (1998)  \n",
       "...                                        ...  \n",
       "836473                          Platoon (1986)  \n",
       "836474                 Crying Game, The (1992)  \n",
       "836475         Welcome to the Dollhouse (1995)  \n",
       "836476                  Sophie's Choice (1982)  \n",
       "836477       E.T. the Extra-Terrestrial (1982)  \n",
       "\n",
       "[836478 rows x 5 columns]"
      ]
     },
     "execution_count": 22,
     "metadata": {},
     "output_type": "execute_result"
    }
   ],
   "source": [
    "# 영화를 title로 입력할 것이기때문에 title이란 컬럼을 불러와야합니다.\n",
    "ratings = pd.merge(ratings, movies[['title', 'movie_id']], on='movie_id', how='left')\n",
    "ratings"
   ]
  },
  {
   "cell_type": "code",
   "execution_count": null,
   "id": "53300879",
   "metadata": {},
   "outputs": [],
   "source": [
    "# 검색을 쉽게 하기 위해 영화제목 문자열을 소문자로 바꿔주기\n",
    "data['title'] = data['title'].str.lower()  \n",
    "data.head(10)"
   ]
  },
  {
   "cell_type": "markdown",
   "id": "a9e11c77",
   "metadata": {},
   "source": [
    "# 2) 분석해 봅시다.\n",
    "ratings에 있는 유니크한 영화 개수\n",
    "ratings에 있는 유니크한 사용자 수\n",
    "가장 인기 있는 영화 30개(인기순)"
   ]
  },
  {
   "cell_type": "code",
   "execution_count": 24,
   "id": "d8d0941d",
   "metadata": {},
   "outputs": [
    {
     "data": {
      "text/plain": [
       "3628"
      ]
     },
     "execution_count": 24,
     "metadata": {},
     "output_type": "execute_result"
    }
   ],
   "source": [
    "# ratings에 있는 유니크한 영화 개수\n",
    "ratings['movie_id'].nunique()"
   ]
  },
  {
   "cell_type": "code",
   "execution_count": 25,
   "id": "990516ba",
   "metadata": {},
   "outputs": [
    {
     "data": {
      "text/plain": [
       "6039"
      ]
     },
     "execution_count": 25,
     "metadata": {},
     "output_type": "execute_result"
    }
   ],
   "source": [
    "# rating에 있는 유니크한 사용자 수\n",
    "ratings['user_id'].nunique()"
   ]
  },
  {
   "cell_type": "code",
   "execution_count": 29,
   "id": "8520dae6",
   "metadata": {},
   "outputs": [
    {
     "data": {
      "text/plain": [
       "movie_id\n",
       "2858    3211\n",
       "260     2910\n",
       "1196    2885\n",
       "1210    2716\n",
       "2028    2561\n",
       "589     2509\n",
       "593     2498\n",
       "1198    2473\n",
       "1270    2460\n",
       "2571    2434\n",
       "480     2413\n",
       "2762    2385\n",
       "608     2371\n",
       "110     2314\n",
       "1580    2297\n",
       "527     2257\n",
       "1197    2252\n",
       "2396    2213\n",
       "1617    2210\n",
       "318     2194\n",
       "858     2167\n",
       "1265    2121\n",
       "1097    2102\n",
       "2997    2066\n",
       "2716    2051\n",
       "296     2030\n",
       "356     2022\n",
       "1240    2019\n",
       "1       2000\n",
       "457     1941\n",
       "Name: counts, dtype: int64"
      ]
     },
     "execution_count": 29,
     "metadata": {},
     "output_type": "execute_result"
    }
   ],
   "source": [
    "#가장 인기 있는 영화 30개(인기순) 영화 id별 별점(시청횟수)많은 순\n",
    "movie_counts = ratings.groupby('movie_id')['counts'].count()\n",
    "movie_counts.sort_values(ascending=False).head(30)"
   ]
  },
  {
   "cell_type": "markdown",
   "id": "709c9f91",
   "metadata": {},
   "source": [
    "# 3) 내가 선호하는 영화를 5가지 골라서 ratings에 추가해 줍시다."
   ]
  },
  {
   "cell_type": "code",
   "execution_count": 70,
   "id": "57c73703",
   "metadata": {},
   "outputs": [
    {
     "data": {
      "text/html": [
       "<div>\n",
       "<style scoped>\n",
       "    .dataframe tbody tr th:only-of-type {\n",
       "        vertical-align: middle;\n",
       "    }\n",
       "\n",
       "    .dataframe tbody tr th {\n",
       "        vertical-align: top;\n",
       "    }\n",
       "\n",
       "    .dataframe thead th {\n",
       "        text-align: right;\n",
       "    }\n",
       "</style>\n",
       "<table border=\"1\" class=\"dataframe\">\n",
       "  <thead>\n",
       "    <tr style=\"text-align: right;\">\n",
       "      <th></th>\n",
       "      <th>user_id</th>\n",
       "      <th>movie_id</th>\n",
       "      <th>counts</th>\n",
       "      <th>timestamp</th>\n",
       "      <th>title</th>\n",
       "      <th>count</th>\n",
       "    </tr>\n",
       "  </thead>\n",
       "  <tbody>\n",
       "    <tr>\n",
       "      <th>0</th>\n",
       "      <td>6041</td>\n",
       "      <td>3633.0</td>\n",
       "      <td>NaN</td>\n",
       "      <td>NaN</td>\n",
       "      <td>avatar</td>\n",
       "      <td>50.0</td>\n",
       "    </tr>\n",
       "    <tr>\n",
       "      <th>1</th>\n",
       "      <td>6041</td>\n",
       "      <td>3634.0</td>\n",
       "      <td>NaN</td>\n",
       "      <td>NaN</td>\n",
       "      <td>interstellar</td>\n",
       "      <td>50.0</td>\n",
       "    </tr>\n",
       "    <tr>\n",
       "      <th>2</th>\n",
       "      <td>6041</td>\n",
       "      <td>3635.0</td>\n",
       "      <td>NaN</td>\n",
       "      <td>NaN</td>\n",
       "      <td>Les Misérables</td>\n",
       "      <td>50.0</td>\n",
       "    </tr>\n",
       "    <tr>\n",
       "      <th>3</th>\n",
       "      <td>6041</td>\n",
       "      <td>3631.0</td>\n",
       "      <td>NaN</td>\n",
       "      <td>NaN</td>\n",
       "      <td>inception</td>\n",
       "      <td>50.0</td>\n",
       "    </tr>\n",
       "    <tr>\n",
       "      <th>4</th>\n",
       "      <td>6041</td>\n",
       "      <td>3637.0</td>\n",
       "      <td>NaN</td>\n",
       "      <td>NaN</td>\n",
       "      <td>Matrix</td>\n",
       "      <td>50.0</td>\n",
       "    </tr>\n",
       "    <tr>\n",
       "      <th>0</th>\n",
       "      <td>meissamatar</td>\n",
       "      <td>NaN</td>\n",
       "      <td>NaN</td>\n",
       "      <td>NaN</td>\n",
       "      <td>avatar</td>\n",
       "      <td>50.0</td>\n",
       "    </tr>\n",
       "    <tr>\n",
       "      <th>1</th>\n",
       "      <td>meissamatar</td>\n",
       "      <td>NaN</td>\n",
       "      <td>NaN</td>\n",
       "      <td>NaN</td>\n",
       "      <td>interstellar</td>\n",
       "      <td>50.0</td>\n",
       "    </tr>\n",
       "    <tr>\n",
       "      <th>2</th>\n",
       "      <td>meissamatar</td>\n",
       "      <td>NaN</td>\n",
       "      <td>NaN</td>\n",
       "      <td>NaN</td>\n",
       "      <td>Les Misérables</td>\n",
       "      <td>50.0</td>\n",
       "    </tr>\n",
       "    <tr>\n",
       "      <th>3</th>\n",
       "      <td>meissamatar</td>\n",
       "      <td>NaN</td>\n",
       "      <td>NaN</td>\n",
       "      <td>NaN</td>\n",
       "      <td>inception</td>\n",
       "      <td>50.0</td>\n",
       "    </tr>\n",
       "    <tr>\n",
       "      <th>4</th>\n",
       "      <td>meissamatar</td>\n",
       "      <td>NaN</td>\n",
       "      <td>NaN</td>\n",
       "      <td>NaN</td>\n",
       "      <td>Aladdin</td>\n",
       "      <td>50.0</td>\n",
       "    </tr>\n",
       "  </tbody>\n",
       "</table>\n",
       "</div>"
      ],
      "text/plain": [
       "       user_id  movie_id  counts  timestamp           title  count\n",
       "0         6041    3633.0     NaN        NaN          avatar   50.0\n",
       "1         6041    3634.0     NaN        NaN    interstellar   50.0\n",
       "2         6041    3635.0     NaN        NaN  Les Misérables   50.0\n",
       "3         6041    3631.0     NaN        NaN       inception   50.0\n",
       "4         6041    3637.0     NaN        NaN          Matrix   50.0\n",
       "0  meissamatar       NaN     NaN        NaN          avatar   50.0\n",
       "1  meissamatar       NaN     NaN        NaN    interstellar   50.0\n",
       "2  meissamatar       NaN     NaN        NaN  Les Misérables   50.0\n",
       "3  meissamatar       NaN     NaN        NaN       inception   50.0\n",
       "4  meissamatar       NaN     NaN        NaN         Aladdin   50.0"
      ]
     },
     "execution_count": 70,
     "metadata": {},
     "output_type": "execute_result"
    }
   ],
   "source": [
    "# 내가 선호하는 영화를 5가지 골라서 rating에 추가\n",
    "my_favorite = ['avatar', 'interstellar', 'les misérables' , 'inception', 'aladdin']  \n",
    "\n",
    "my_list = pd.DataFrame({'user_id': ['meissamatar']*5, 'title': my_favorite, 'count':[5]*5})\n",
    "\n",
    "if not ratings.isin({'user_id':['meissamatar']})['user_id'].any(): \n",
    "    ratings = ratings.append(my_list)                         \n",
    "\n",
    "ratings.tail(10)  "
   ]
  },
  {
   "cell_type": "code",
   "execution_count": 71,
   "id": "39938e10",
   "metadata": {},
   "outputs": [],
   "source": [
    "# 인덱싱\n",
    "userid_unique = ratings['user_id'].unique()\n",
    "#movie_unique = ratings['movie_id'].unique()\n",
    "\n",
    "movie_unique = ratings['title'].unique()\n",
    "\n",
    "# user, movie indexing 하는 코드 idx는 index의 약자입니다.\n",
    "user_to_idx = {v:k for k,v in enumerate(userid_unique)}\n",
    "movie_to_idx = {v:k for k,v in enumerate(movie_unique)}"
   ]
  },
  {
   "cell_type": "code",
   "execution_count": 72,
   "id": "121c51da",
   "metadata": {
    "scrolled": true
   },
   "outputs": [
    {
     "name": "stdout",
     "output_type": "stream",
     "text": [
      "6042\n",
      "3633\n"
     ]
    }
   ],
   "source": [
    "# 인덱싱이 잘 되었는지 확인\n",
    "print(user_to_idx['meissamatar'])    \n",
    "print(movie_to_idx['avatar'])"
   ]
  },
  {
   "cell_type": "code",
   "execution_count": 75,
   "id": "6d3c472a",
   "metadata": {},
   "outputs": [
    {
     "name": "stdout",
     "output_type": "stream",
     "text": [
      "user_id column indexing Fail!!\n",
      "movie_id column indexing OK!!\n"
     ]
    },
    {
     "data": {
      "text/html": [
       "<div>\n",
       "<style scoped>\n",
       "    .dataframe tbody tr th:only-of-type {\n",
       "        vertical-align: middle;\n",
       "    }\n",
       "\n",
       "    .dataframe tbody tr th {\n",
       "        vertical-align: top;\n",
       "    }\n",
       "\n",
       "    .dataframe thead th {\n",
       "        text-align: right;\n",
       "    }\n",
       "</style>\n",
       "<table border=\"1\" class=\"dataframe\">\n",
       "  <thead>\n",
       "    <tr style=\"text-align: right;\">\n",
       "      <th></th>\n",
       "      <th>user_id</th>\n",
       "      <th>movie_id</th>\n",
       "      <th>counts</th>\n",
       "      <th>timestamp</th>\n",
       "      <th>title</th>\n",
       "      <th>count</th>\n",
       "    </tr>\n",
       "  </thead>\n",
       "  <tbody>\n",
       "    <tr>\n",
       "      <th>0</th>\n",
       "      <td>0</td>\n",
       "      <td>0</td>\n",
       "      <td>5.0</td>\n",
       "      <td>978300760.0</td>\n",
       "      <td>One Flew Over the Cuckoo's Nest (1975)</td>\n",
       "      <td>NaN</td>\n",
       "    </tr>\n",
       "    <tr>\n",
       "      <th>1</th>\n",
       "      <td>0</td>\n",
       "      <td>1</td>\n",
       "      <td>3.0</td>\n",
       "      <td>978302109.0</td>\n",
       "      <td>James and the Giant Peach (1996)</td>\n",
       "      <td>NaN</td>\n",
       "    </tr>\n",
       "    <tr>\n",
       "      <th>2</th>\n",
       "      <td>0</td>\n",
       "      <td>2</td>\n",
       "      <td>3.0</td>\n",
       "      <td>978301968.0</td>\n",
       "      <td>My Fair Lady (1964)</td>\n",
       "      <td>NaN</td>\n",
       "    </tr>\n",
       "    <tr>\n",
       "      <th>3</th>\n",
       "      <td>0</td>\n",
       "      <td>3</td>\n",
       "      <td>4.0</td>\n",
       "      <td>978300275.0</td>\n",
       "      <td>Erin Brockovich (2000)</td>\n",
       "      <td>NaN</td>\n",
       "    </tr>\n",
       "    <tr>\n",
       "      <th>4</th>\n",
       "      <td>0</td>\n",
       "      <td>4</td>\n",
       "      <td>5.0</td>\n",
       "      <td>978824291.0</td>\n",
       "      <td>Bug's Life, A (1998)</td>\n",
       "      <td>NaN</td>\n",
       "    </tr>\n",
       "    <tr>\n",
       "      <th>...</th>\n",
       "      <td>...</td>\n",
       "      <td>...</td>\n",
       "      <td>...</td>\n",
       "      <td>...</td>\n",
       "      <td>...</td>\n",
       "      <td>...</td>\n",
       "    </tr>\n",
       "    <tr>\n",
       "      <th>0</th>\n",
       "      <td>6042</td>\n",
       "      <td>3633</td>\n",
       "      <td>NaN</td>\n",
       "      <td>NaN</td>\n",
       "      <td>avatar</td>\n",
       "      <td>50.0</td>\n",
       "    </tr>\n",
       "    <tr>\n",
       "      <th>1</th>\n",
       "      <td>6042</td>\n",
       "      <td>3634</td>\n",
       "      <td>NaN</td>\n",
       "      <td>NaN</td>\n",
       "      <td>interstellar</td>\n",
       "      <td>50.0</td>\n",
       "    </tr>\n",
       "    <tr>\n",
       "      <th>2</th>\n",
       "      <td>6042</td>\n",
       "      <td>3635</td>\n",
       "      <td>NaN</td>\n",
       "      <td>NaN</td>\n",
       "      <td>Les Misérables</td>\n",
       "      <td>50.0</td>\n",
       "    </tr>\n",
       "    <tr>\n",
       "      <th>3</th>\n",
       "      <td>6042</td>\n",
       "      <td>3631</td>\n",
       "      <td>NaN</td>\n",
       "      <td>NaN</td>\n",
       "      <td>inception</td>\n",
       "      <td>50.0</td>\n",
       "    </tr>\n",
       "    <tr>\n",
       "      <th>4</th>\n",
       "      <td>6042</td>\n",
       "      <td>3638</td>\n",
       "      <td>NaN</td>\n",
       "      <td>NaN</td>\n",
       "      <td>Aladdin</td>\n",
       "      <td>50.0</td>\n",
       "    </tr>\n",
       "  </tbody>\n",
       "</table>\n",
       "<p>836498 rows × 6 columns</p>\n",
       "</div>"
      ],
      "text/plain": [
       "    user_id  movie_id  counts    timestamp  \\\n",
       "0         0         0     5.0  978300760.0   \n",
       "1         0         1     3.0  978302109.0   \n",
       "2         0         2     3.0  978301968.0   \n",
       "3         0         3     4.0  978300275.0   \n",
       "4         0         4     5.0  978824291.0   \n",
       "..      ...       ...     ...          ...   \n",
       "0      6042      3633     NaN          NaN   \n",
       "1      6042      3634     NaN          NaN   \n",
       "2      6042      3635     NaN          NaN   \n",
       "3      6042      3631     NaN          NaN   \n",
       "4      6042      3638     NaN          NaN   \n",
       "\n",
       "                                     title  count  \n",
       "0   One Flew Over the Cuckoo's Nest (1975)    NaN  \n",
       "1         James and the Giant Peach (1996)    NaN  \n",
       "2                      My Fair Lady (1964)    NaN  \n",
       "3                   Erin Brockovich (2000)    NaN  \n",
       "4                     Bug's Life, A (1998)    NaN  \n",
       "..                                     ...    ...  \n",
       "0                                   avatar   50.0  \n",
       "1                             interstellar   50.0  \n",
       "2                           Les Misérables   50.0  \n",
       "3                                inception   50.0  \n",
       "4                                  Aladdin   50.0  \n",
       "\n",
       "[836498 rows x 6 columns]"
      ]
     },
     "execution_count": 75,
     "metadata": {},
     "output_type": "execute_result"
    }
   ],
   "source": [
    "# indexing을 통해 데이터 컬럼 내 값을 바꾸는 코드\n",
    "# dictionary 자료형의 get 함수는 https://wikidocs.net/16 을 참고하세요.\n",
    "\n",
    "# user_to_idx.get을 통해 user_id 컬럼의 모든 값을 인덱싱한 Series를 구해 봅시다. \n",
    "# 혹시 정상적으로 인덱싱되지 않은 row가 있다면 인덱스가 NaN이 될 테니 dropna()로 제거합니다. \n",
    "temp_user_data = ratings['user_id'].map(user_to_idx.get).dropna()\n",
    "if len(temp_user_data) == len(ratings):   # 모든 row가 정상적으로 인덱싱되었다면\n",
    "    print('user_id column indexing OK!!')\n",
    "    ratings['user_id'] = temp_user_data   # data['user_id']을 인덱싱된 Series로 교체해 줍니다. \n",
    "else:\n",
    "    print('user_id column indexing Fail!!')\n",
    "\n",
    "# artist_to_idx을 통해 artist 컬럼도 동일한 방식으로 인덱싱해 줍니다. \n",
    "temp_movie_data = ratings['title'].map(movie_to_idx.get).dropna()\n",
    "if len(temp_movie_data) == len(ratings):\n",
    "    print('movie_id column indexing OK!!')\n",
    "    ratings['movie_id'] = temp_movie_data\n",
    "else:\n",
    "    print('movie_id column indexing Fail!!')\n",
    "\n",
    "ratings"
   ]
  },
  {
   "cell_type": "markdown",
   "id": "35f913a4",
   "metadata": {},
   "source": [
    "# 4) CSR matrix를 직접 만들어 봅시다."
   ]
  },
  {
   "cell_type": "code",
   "execution_count": 76,
   "id": "7a616258",
   "metadata": {},
   "outputs": [
    {
     "data": {
      "text/plain": [
       "<6043x3639 sparse matrix of type '<class 'numpy.float64'>'\n",
       "\twith 836498 stored elements in Compressed Sparse Row format>"
      ]
     },
     "execution_count": 76,
     "metadata": {},
     "output_type": "execute_result"
    }
   ],
   "source": [
    "# csr_matrix\n",
    "from scipy.sparse import csr_matrix\n",
    "\n",
    "num_user = ratings['user_id'].nunique()\n",
    "num_movie = ratings['movie_id'].nunique()\n",
    "\n",
    "csr_data = csr_matrix((ratings['count'], (ratings.user_id, ratings.movie_id)), shape= (num_user, num_movie))\n",
    "csr_data"
   ]
  },
  {
   "cell_type": "code",
   "execution_count": 78,
   "id": "a8a0747d",
   "metadata": {},
   "outputs": [],
   "source": [
    "from implicit.als import AlternatingLeastSquares\n",
    "import os\n",
    "import numpy as np\n",
    "\n",
    "# implicit 라이브러리에서 권장하고 있는 부분입니다. \n",
    "os.environ['OPENBLAS_NUM_THREADS']='1'\n",
    "os.environ['KMP_DUPLICATE_LIB_OK']='True'\n",
    "os.environ['MKL_NUM_THREADS']='1'\n",
    "\n",
    "# Implicit AlternatingLeastSquares 모델의 선언\n",
    "# 1. factors : 유저와 아이템의 벡터를 몇 차원으로 할 것인지\n",
    "# 2. regularization : 과적합을 방지하기 위해 정규화 값을 얼마나 사용할 것인지 \n",
    "# 3. use_gpu : GPU를 사용할 것인지 \n",
    "# 4. iterations : epochs와 같은 의미입니다.\n",
    "als_model = AlternatingLeastSquares(factors=100, regularization=0.01, use_gpu=False, iterations=20, dtype=np.float32)"
   ]
  },
  {
   "cell_type": "markdown",
   "id": "38212a4a",
   "metadata": {},
   "source": [
    "# 5) als_model = AlternatingLeastSquares 모델을 직접 구성하여 훈련시켜 봅시다.\n"
   ]
  },
  {
   "cell_type": "code",
   "execution_count": 79,
   "id": "ce64aeb7",
   "metadata": {},
   "outputs": [
    {
     "data": {
      "text/plain": [
       "<3639x6043 sparse matrix of type '<class 'numpy.float64'>'\n",
       "\twith 836498 stored elements in Compressed Sparse Column format>"
      ]
     },
     "execution_count": 79,
     "metadata": {},
     "output_type": "execute_result"
    }
   ],
   "source": [
    "# als 모델은 input으로 (item X user 꼴의 matrix를 받기 때문에 Transpose해줍니다.)\n",
    "csr_data_transpose = csr_data.T\n",
    "csr_data_transpose"
   ]
  },
  {
   "cell_type": "code",
   "execution_count": 80,
   "id": "f9773884",
   "metadata": {},
   "outputs": [
    {
     "data": {
      "application/vnd.jupyter.widget-view+json": {
       "model_id": "ef00fc81c0f04e3cba2c5274a82a56bf",
       "version_major": 2,
       "version_minor": 0
      },
      "text/plain": [
       "  0%|          | 0/20 [00:00<?, ?it/s]"
      ]
     },
     "metadata": {},
     "output_type": "display_data"
    },
    {
     "ename": "ModelFitError",
     "evalue": "NaN encountered in factors",
     "output_type": "error",
     "traceback": [
      "\u001b[0;31m---------------------------------------------------------------------------\u001b[0m",
      "\u001b[0;31mModelFitError\u001b[0m                             Traceback (most recent call last)",
      "\u001b[0;32m/tmp/ipykernel_13/836373613.py\u001b[0m in \u001b[0;36m<module>\u001b[0;34m\u001b[0m\n\u001b[1;32m      1\u001b[0m \u001b[0;31m# 모델 훈련\u001b[0m\u001b[0;34m\u001b[0m\u001b[0;34m\u001b[0m\u001b[0m\n\u001b[0;32m----> 2\u001b[0;31m \u001b[0mals_model\u001b[0m\u001b[0;34m.\u001b[0m\u001b[0mfit\u001b[0m\u001b[0;34m(\u001b[0m\u001b[0mcsr_data_transpose\u001b[0m\u001b[0;34m)\u001b[0m\u001b[0;34m\u001b[0m\u001b[0;34m\u001b[0m\u001b[0m\n\u001b[0m",
      "\u001b[0;32m/opt/conda/lib/python3.9/site-packages/implicit/cpu/als.py\u001b[0m in \u001b[0;36mfit\u001b[0;34m(self, item_users, show_progress)\u001b[0m\n\u001b[1;32m    191\u001b[0m             \u001b[0mlog\u001b[0m\u001b[0;34m.\u001b[0m\u001b[0minfo\u001b[0m\u001b[0;34m(\u001b[0m\u001b[0;34m\"Final training loss %.4f\"\u001b[0m\u001b[0;34m,\u001b[0m \u001b[0mloss\u001b[0m\u001b[0;34m)\u001b[0m\u001b[0;34m\u001b[0m\u001b[0;34m\u001b[0m\u001b[0m\n\u001b[1;32m    192\u001b[0m \u001b[0;34m\u001b[0m\u001b[0m\n\u001b[0;32m--> 193\u001b[0;31m         \u001b[0mself\u001b[0m\u001b[0;34m.\u001b[0m\u001b[0m_check_fit_errors\u001b[0m\u001b[0;34m(\u001b[0m\u001b[0;34m)\u001b[0m\u001b[0;34m\u001b[0m\u001b[0;34m\u001b[0m\u001b[0m\n\u001b[0m\u001b[1;32m    194\u001b[0m \u001b[0;34m\u001b[0m\u001b[0m\n\u001b[1;32m    195\u001b[0m     \u001b[0;32mdef\u001b[0m \u001b[0mrecalculate_user\u001b[0m\u001b[0;34m(\u001b[0m\u001b[0mself\u001b[0m\u001b[0;34m,\u001b[0m \u001b[0muserid\u001b[0m\u001b[0;34m,\u001b[0m \u001b[0muser_items\u001b[0m\u001b[0;34m)\u001b[0m\u001b[0;34m:\u001b[0m\u001b[0;34m\u001b[0m\u001b[0;34m\u001b[0m\u001b[0m\n",
      "\u001b[0;32mimplicit/recommender_base.pyx\u001b[0m in \u001b[0;36mimplicit.recommender_base.MatrixFactorizationBase._check_fit_errors\u001b[0;34m()\u001b[0m\n",
      "\u001b[0;31mModelFitError\u001b[0m: NaN encountered in factors"
     ]
    }
   ],
   "source": [
    "# 모델 훈련\n",
    "als_model.fit(csr_data_transpose)"
   ]
  },
  {
   "cell_type": "code",
   "execution_count": 66,
   "id": "c19ced37",
   "metadata": {},
   "outputs": [
    {
     "name": "stdout",
     "output_type": "stream",
     "text": [
      "슝=3\n"
     ]
    }
   ],
   "source": [
    "meissamatar, inception = user_to_idx['meissamatar'], movie_to_idx['inception']\n",
    "meissamatar_vector, inception_vector = als_model.user_factors[meissamatar], als_model.item_factors[inception]\n",
    "\n",
    "print('슝=3')"
   ]
  },
  {
   "cell_type": "code",
   "execution_count": 67,
   "id": "63ee446a",
   "metadata": {},
   "outputs": [
    {
     "data": {
      "text/plain": [
       "nan"
      ]
     },
     "execution_count": 67,
     "metadata": {},
     "output_type": "execute_result"
    }
   ],
   "source": [
    "# 내적하는 코드\n",
    "np.dot(meissamatar_vector, inception_vector)"
   ]
  },
  {
   "cell_type": "code",
   "execution_count": 41,
   "id": "bd476c6b",
   "metadata": {},
   "outputs": [
    {
     "data": {
      "text/plain": [
       "nan"
      ]
     },
     "execution_count": 41,
     "metadata": {},
     "output_type": "execute_result"
    }
   ],
   "source": [
    "getout = movie_to_idx['get out']\n",
    "getout_vector = als_model.item_factors[getout]\n",
    "np.dot(meissamatar_vector, getout_vector)"
   ]
  },
  {
   "cell_type": "markdown",
   "id": "8d75dddc",
   "metadata": {},
   "source": [
    "# 6) 내가 선호하는 5가지 영화 중 하나와 그 외의 영화 하나를 골라 훈련된 모델이 예측한 나의 선호도를 파악해 보세요."
   ]
  },
  {
   "cell_type": "code",
   "execution_count": 42,
   "id": "47f16b09",
   "metadata": {},
   "outputs": [
    {
     "data": {
      "text/plain": [
       "[(1205, nan),\n",
       " (1194, nan),\n",
       " (1219, nan),\n",
       " (1208, nan),\n",
       " (1209, nan),\n",
       " (1210, nan),\n",
       " (1211, nan),\n",
       " (1212, nan),\n",
       " (1213, nan),\n",
       " (1214, nan),\n",
       " (1215, nan),\n",
       " (1216, nan),\n",
       " (1217, nan),\n",
       " (1218, nan),\n",
       " (3632, nan)]"
      ]
     },
     "execution_count": 42,
     "metadata": {},
     "output_type": "execute_result"
    }
   ],
   "source": [
    "# (id, 유사도 )\n",
    "favorite_movie = 'inception'\n",
    "movie_id = movie_to_idx[favorite_movie]\n",
    "similar_movie = als_model.similar_items(movie_id, N=15)\n",
    "similar_movie"
   ]
  },
  {
   "cell_type": "code",
   "execution_count": 43,
   "id": "a27a1fc1",
   "metadata": {},
   "outputs": [
    {
     "data": {
      "text/plain": [
       "['Bad Girls (1994)',\n",
       " 'Fatal Attraction (1987)',\n",
       " 'First Blood (1982)',\n",
       " 'Miami Rhapsody (1995)',\n",
       " 'Oxygen (1999)',\n",
       " 'Blame It on Rio (1984)',\n",
       " 'Fools Rush In (1997)',\n",
       " 'Tin Cup (1996)',\n",
       " 'Nine 1/2 Weeks (1986)',\n",
       " 'Random Hearts (1999)',\n",
       " 'Metropolitan (1990)',\n",
       " 'Client, The (1994)',\n",
       " 'Blue Chips (1994)',\n",
       " 'Bonfire of the Vanities (1990)',\n",
       " 'gravity']"
      ]
     },
     "execution_count": 43,
     "metadata": {},
     "output_type": "execute_result"
    }
   ],
   "source": [
    "#artist_to_idx 를 뒤집어, index로부터 artist 이름을 얻는 dict를 생성합니다. \n",
    "idx_to_movie = {v:k for k,v in movie_to_idx.items()}\n",
    "[idx_to_movie[i[0]] for i in similar_movie]"
   ]
  },
  {
   "cell_type": "markdown",
   "id": "75f76738",
   "metadata": {},
   "source": [
    "# 7) 내가 좋아하는 영화와 비슷한 영화를 추천받아 봅시다."
   ]
  },
  {
   "cell_type": "code",
   "execution_count": 44,
   "id": "6d8d3180",
   "metadata": {},
   "outputs": [
    {
     "name": "stdout",
     "output_type": "stream",
     "text": [
      "슝=3\n"
     ]
    }
   ],
   "source": [
    "# 비슷한 영화 이름 검색 함수\n",
    "def get_similar_movie(movie_name: str):\n",
    "    movie_id = movie_to_idx[movie_name]\n",
    "    similar_movie = als_model.similar_items(movie_id)\n",
    "    similar_movie = [idx_to_movie[i[0]] for i in similar_movie]\n",
    "    return similar_movie\n",
    "\n",
    "print(\"슝=3\")"
   ]
  },
  {
   "cell_type": "code",
   "execution_count": 45,
   "id": "e6494d5b",
   "metadata": {},
   "outputs": [
    {
     "data": {
      "text/plain": [
       "['Blue Chips (1994)',\n",
       " 'Nine 1/2 Weeks (1986)',\n",
       " 'Metropolitan (1990)',\n",
       " 'First Blood (1982)',\n",
       " 'Miami Rhapsody (1995)',\n",
       " 'Tin Cup (1996)',\n",
       " 'Fools Rush In (1997)',\n",
       " 'Blame It on Rio (1984)',\n",
       " 'Oxygen (1999)',\n",
       " 'gravity']"
      ]
     },
     "execution_count": 45,
     "metadata": {},
     "output_type": "execute_result"
    }
   ],
   "source": [
    "get_similar_movie('get out')"
   ]
  },
  {
   "cell_type": "code",
   "execution_count": 46,
   "id": "b6818d21",
   "metadata": {},
   "outputs": [
    {
     "data": {
      "text/plain": [
       "[(1200, nan),\n",
       " (1203, nan),\n",
       " (1199, nan),\n",
       " (1201, nan),\n",
       " (1206, nan),\n",
       " (1207, nan),\n",
       " (1198, nan),\n",
       " (1197, nan),\n",
       " (1196, nan),\n",
       " (1195, nan),\n",
       " (1205, nan),\n",
       " (1194, nan),\n",
       " (1219, nan),\n",
       " (1208, nan),\n",
       " (1209, nan),\n",
       " (1210, nan),\n",
       " (1211, nan),\n",
       " (1212, nan),\n",
       " (1213, nan),\n",
       " (1214, nan)]"
      ]
     },
     "execution_count": 46,
     "metadata": {},
     "output_type": "execute_result"
    }
   ],
   "source": [
    "user = user_to_idx['meissamatar']\n",
    "# recommend에서는 user*item CSR Matrix를 받습니다.\n",
    "movie_recommended = als_model.recommend(user, csr_data, N=20, filter_already_liked_items=True)\n",
    "movie_recommended"
   ]
  },
  {
   "cell_type": "markdown",
   "id": "020b8ef5",
   "metadata": {},
   "source": [
    "# 8) 내가 가장 좋아할 만한 영화들을 추천받아 봅시다.\n"
   ]
  },
  {
   "cell_type": "code",
   "execution_count": 47,
   "id": "a9790fab",
   "metadata": {},
   "outputs": [
    {
     "data": {
      "text/plain": [
       "['American President, The (1995)',\n",
       " 'Something to Talk About (1995)',\n",
       " 'Substitute, The (1996)',\n",
       " 'Meatballs (1979)',\n",
       " 'Hope Floats (1998)',\n",
       " 'Milk Money (1994)',\n",
       " 'Diner (1982)',\n",
       " 'Honeymoon in Vegas (1992)',\n",
       " 'Net, The (1995)',\n",
       " 'I.Q. (1994)',\n",
       " 'Bad Girls (1994)',\n",
       " 'Fatal Attraction (1987)',\n",
       " 'First Blood (1982)',\n",
       " 'Miami Rhapsody (1995)',\n",
       " 'Oxygen (1999)',\n",
       " 'Blame It on Rio (1984)',\n",
       " 'Fools Rush In (1997)',\n",
       " 'Tin Cup (1996)',\n",
       " 'Nine 1/2 Weeks (1986)',\n",
       " 'Random Hearts (1999)']"
      ]
     },
     "execution_count": 47,
     "metadata": {},
     "output_type": "execute_result"
    }
   ],
   "source": [
    "[idx_to_movie[i[0]] for i in movie_recommended]"
   ]
  }
 ],
 "metadata": {
  "kernelspec": {
   "display_name": "Python 3 (ipykernel)",
   "language": "python",
   "name": "python3"
  },
  "language_info": {
   "codemirror_mode": {
    "name": "ipython",
    "version": 3
   },
   "file_extension": ".py",
   "mimetype": "text/x-python",
   "name": "python",
   "nbconvert_exporter": "python",
   "pygments_lexer": "ipython3",
   "version": "3.9.7"
  }
 },
 "nbformat": 4,
 "nbformat_minor": 5
}
